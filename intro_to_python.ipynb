{
  "cells": [
    {
      "cell_type": "markdown",
      "metadata": {
        "id": "view-in-github",
        "colab_type": "text"
      },
      "source": [
        "<a href=\"https://colab.research.google.com/github/Jay-1853/hello-world/blob/main/intro_to_python.ipynb\" target=\"_parent\"><img src=\"https://colab.research.google.com/assets/colab-badge.svg\" alt=\"Open In Colab\"/></a>"
      ]
    },
    {
      "cell_type": "code",
      "execution_count": null,
      "metadata": {
        "id": "onLebTMZJnXu"
      },
      "outputs": [],
      "source": [
        "# Say hello using user's first name\n",
        "\n",
        "# Ask user for their name, remove leading and lagging white spaces and capitalize the first letter of each word\n",
        "first, last = input(\"What is your name? \").strip().title().split(\" \")\n",
        "\n",
        "# greet the user\n",
        "print(f\"Hello, {first}\")"
      ]
    },
    {
      "cell_type": "code",
      "execution_count": null,
      "metadata": {
        "colab": {
          "base_uri": "https://localhost:8080/"
        },
        "id": "MH5Qp7-ZeG4x",
        "outputId": "f6c303a3-e7bd-463e-d0f8-e6a4a42fdff5"
      },
      "outputs": [
        {
          "name": "stdout",
          "output_type": "stream",
          "text": [
            "What is your name?    gjghkh   jhkjhkjh  \n",
            "Hello, Gjghkh   Jhkjhkjh\n"
          ]
        }
      ],
      "source": [
        "# Say hello using user's full name\n",
        "\n",
        "# Ask user for their name, remove leading and lagging white spaces and capitalize the first letter of each word\n",
        "name = input(\"What is your name? \").strip().title()\n",
        "\n",
        "# greet the user\n",
        "print(f\"Hello, {name}\")"
      ]
    },
    {
      "cell_type": "code",
      "execution_count": null,
      "metadata": {
        "colab": {
          "base_uri": "https://localhost:8080/"
        },
        "id": "EevmSkqZfykS",
        "outputId": "734c0a9a-add7-4ac6-ff13-ad43f528557a"
      },
      "outputs": [
        {
          "name": "stdout",
          "output_type": "stream",
          "text": [
            "What is your name? Wale Adebuga\n",
            "Hello, Wale Adebuga\n"
          ]
        }
      ],
      "source": [
        "# defining function that prints \"hello\".\n",
        "def hello():\n",
        "  print(\"Hello, \", end = \"\")\n",
        "\n",
        "# Calling the function\n",
        "name = input(\"What is your name? \")\n",
        "hello()\n",
        "print(name)"
      ]
    },
    {
      "cell_type": "code",
      "execution_count": null,
      "metadata": {
        "colab": {
          "base_uri": "https://localhost:8080/"
        },
        "id": "J8h7XjgRgIt9",
        "outputId": "fa007a8f-bf0b-4df1-81a3-6c707fc64666"
      },
      "outputs": [
        {
          "name": "stdout",
          "output_type": "stream",
          "text": [
            "What is your name? Ayooluwa Emmanuel Joseph\n",
            "Hello, Ayooluwa Emmanuel Joseph\n"
          ]
        }
      ],
      "source": [
        "# defining function that prints \"hello\" and the user's name. Now, you are parameterizing the function and assigning the parameter \"to\"\n",
        "def hello(to):\n",
        "  print(\"Hello,\", to)\n",
        "\n",
        "# Calling the function and reassigning the value of \"to\" in the function definition to \"name.\"\n",
        "name = input(\"What is your name? \")\n",
        "hello(name)"
      ]
    },
    {
      "cell_type": "code",
      "execution_count": null,
      "metadata": {
        "colab": {
          "base_uri": "https://localhost:8080/"
        },
        "id": "MZHGZn9yjxP3",
        "outputId": "5575644a-4a50-421d-c33c-63d83acd0f65"
      },
      "outputs": [
        {
          "name": "stdout",
          "output_type": "stream",
          "text": [
            "Hello, world\n",
            "What is your name? Ayooluwa Emmanuel Joseph\n",
            "Hello, Ayooluwa Emmanuel Joseph\n"
          ]
        }
      ],
      "source": [
        "# defining function that prints \"hello\" and the user's name. Now, you are parameterizing the function and assigning the parameter \"to\"\n",
        "# Assign a default value to the parameter.\n",
        "def hello(to = \"world\"):\n",
        "  print(\"Hello,\", to)\n",
        "\n",
        "# Calling the function and reassigning the value of \"to\" in the function definition to \"name.\"\n",
        "hello()\n",
        "name = input(\"What is your name? \")\n",
        "hello(name)"
      ]
    },
    {
      "cell_type": "code",
      "execution_count": null,
      "metadata": {
        "colab": {
          "base_uri": "https://localhost:8080/"
        },
        "id": "5ba2CbE8A9YH",
        "outputId": "135d2690-09f0-4870-8ea8-4ca58941e35b"
      },
      "outputs": [
        {
          "name": "stdout",
          "output_type": "stream",
          "text": [
            "What is your name? Ayooluwa Emmanuel Joseph\n",
            "Hello, Ayooluwa Emmanuel Joseph\n"
          ]
        }
      ],
      "source": [
        "# You may be interested in having your code flow logically. You may then have to define the main block of your code separate from other block\n",
        "# Define main function\n",
        "def main():\n",
        "  name = input(\"What is your name? \")\n",
        "  hello(name)\n",
        "\n",
        "# Define the hello funtion that is to be used in the main function.\n",
        "def hello(to):\n",
        "  print(\"Hello,\", to)\n",
        "\n",
        "main()"
      ]
    },
    {
      "cell_type": "code",
      "execution_count": null,
      "metadata": {
        "colab": {
          "base_uri": "https://localhost:8080/"
        },
        "id": "g80-cfRSEELy",
        "outputId": "2ea4afdd-b27d-4db8-d707-de157bea68f5"
      },
      "outputs": [
        {
          "name": "stdout",
          "output_type": "stream",
          "text": [
            "What is x? 9\n",
            "X squared is 81\n"
          ]
        }
      ],
      "source": [
        "# the \"hello\" function we defined earlier only has a side effect, i.e printing out a value.\n",
        "# No we want to define a function that returns a value.\n",
        "\n",
        "def main():\n",
        "  x = int(input(\"What is x? \"))\n",
        "  print(\"X squared is\", square(x))\n",
        "\n",
        "\n",
        "def square(n):\n",
        "  return pow(n, 2)\n",
        "\n",
        "main()\n"
      ]
    },
    {
      "cell_type": "markdown",
      "metadata": {
        "id": "TadLYl1qHdTc"
      },
      "source": [
        "## Conditionals"
      ]
    },
    {
      "cell_type": "markdown",
      "metadata": {
        "id": "OXNQLZAAN_ca"
      },
      "source": [
        "###If"
      ]
    },
    {
      "cell_type": "code",
      "execution_count": null,
      "metadata": {
        "colab": {
          "base_uri": "https://localhost:8080/"
        },
        "id": "2OvUmirMHhHB",
        "outputId": "f5997824-721a-4511-fce8-f4984ed4c315"
      },
      "outputs": [
        {
          "name": "stdout",
          "output_type": "stream",
          "text": [
            "What is x? 8\n",
            "What is y? 8\n",
            "x is equal to y\n"
          ]
        }
      ],
      "source": [
        "x = int(input(\"What is x? \"))\n",
        "y = int(input(\"What is y? \"))\n",
        "\n",
        "if x > y:\n",
        "  print(\"x is greater than y\")\n",
        "elif x < y:\n",
        "  print(\"x is less than y\")\n",
        "else:\n",
        "  print(\"x is equal to y\")"
      ]
    },
    {
      "cell_type": "markdown",
      "metadata": {
        "id": "hgOxNT0cPi22"
      },
      "source": [
        "### Or"
      ]
    },
    {
      "cell_type": "code",
      "execution_count": null,
      "metadata": {
        "colab": {
          "base_uri": "https://localhost:8080/"
        },
        "id": "8nbUUFwbPmKz",
        "outputId": "d935641a-8c3b-4332-cd7d-2c378efa343a"
      },
      "outputs": [
        {
          "name": "stdout",
          "output_type": "stream",
          "text": [
            "What is x? 7\n",
            "What is y? 9\n",
            "x is not equal to y\n"
          ]
        }
      ],
      "source": [
        "x = int(input(\"What is x? \"))\n",
        "y = int(input(\"What is y? \"))\n",
        "\n",
        "if x > y or x < y:\n",
        "  print(\"x is not equal to y\")\n",
        "else:\n",
        "  print(\"x is equal to y\")"
      ]
    },
    {
      "cell_type": "markdown",
      "metadata": {
        "id": "dyX9l8RJUE4G"
      },
      "source": [
        "###And"
      ]
    },
    {
      "cell_type": "code",
      "execution_count": null,
      "metadata": {
        "colab": {
          "base_uri": "https://localhost:8080/"
        },
        "id": "uVtosSrpUH2q",
        "outputId": "f57aa55b-aa20-4e0b-d7c9-e2b3dbba20da"
      },
      "outputs": [
        {
          "name": "stdout",
          "output_type": "stream",
          "text": [
            "What is your score? 50\n",
            "Your grade is F\n"
          ]
        }
      ],
      "source": [
        "score = int(input(\"What is your score? \"))\n",
        "\n",
        "if score >= 90 and score <= 100:\n",
        "  print(\"Your grade is A\")\n",
        "\n",
        "elif score >= 80 and score < 90:\n",
        "  print(\"Your grade is B\")\n",
        "\n",
        "elif score >= 70 and score < 80:\n",
        "  print(\"Your grade is C\")\n",
        "\n",
        "elif score >= 60 and score < 70:\n",
        "  print(\"Your grade is D\")\n",
        "\n",
        "else:\n",
        "  print(\"Your grade is F\")\n",
        "\n"
      ]
    },
    {
      "cell_type": "code",
      "execution_count": null,
      "metadata": {
        "colab": {
          "base_uri": "https://localhost:8080/"
        },
        "id": "ObBEQo-MaxXY",
        "outputId": "7f561aa7-185b-4233-b9d0-60f4983e93ee"
      },
      "outputs": [
        {
          "name": "stdout",
          "output_type": "stream",
          "text": [
            "What is your score? 80\n",
            "Your grade is B\n"
          ]
        }
      ],
      "source": [
        "# A shorter way of writing the code above is this:\n",
        "\n",
        "score = int(input(\"What is your score? \"))\n",
        "\n",
        "if 90 <= score <= 100:\n",
        "  print(\"Your grade is A\")\n",
        "\n",
        "elif 80 <= score < 90:\n",
        "  print(\"Your grade is B\")\n",
        "\n",
        "elif 70 <= score < 80:\n",
        "  print(\"Your grade is C\")\n",
        "\n",
        "elif 60 <= score < 70:\n",
        "  print(\"Your grade is D\")\n",
        "\n",
        "else:\n",
        "  print(\"Your grade is F\")"
      ]
    },
    {
      "cell_type": "code",
      "execution_count": null,
      "metadata": {
        "colab": {
          "base_uri": "https://localhost:8080/"
        },
        "id": "XplJdw8kcOkf",
        "outputId": "4652438c-099e-4b54-9541-b11cf619baea"
      },
      "outputs": [
        {
          "name": "stdout",
          "output_type": "stream",
          "text": [
            "What is your score? 81\n",
            "Your grade is B\n"
          ]
        }
      ],
      "source": [
        "# Another shorter way of writing the code above is this:\n",
        "\n",
        "score = int(input(\"What is your score? \"))\n",
        "\n",
        "if score >= 90:\n",
        "  print(\"Your grade is A\")\n",
        "\n",
        "elif score >= 80:\n",
        "  print(\"Your grade is B\")\n",
        "\n",
        "elif score >= 70:\n",
        "  print(\"Your grade is C\")\n",
        "\n",
        "elif score >= 60:\n",
        "  print(\"Your grade is D\")\n",
        "\n",
        "else:\n",
        "  print(\"Your grade is F\")"
      ]
    },
    {
      "cell_type": "code",
      "execution_count": null,
      "metadata": {
        "colab": {
          "base_uri": "https://localhost:8080/"
        },
        "id": "GmBVUP_NowCr",
        "outputId": "f0efda24-fdfd-4f26-de09-fd1abc067aa5"
      },
      "outputs": [
        {
          "name": "stdout",
          "output_type": "stream",
          "text": [
            "Write a message to your loved one: Hello, Juliet. I JUST WANT TO SAY THAT i like you as a person and would want to get to know get to know you better. Let me know what you THINK.\n",
            "hello, juliet. i just want to say that i like you as a person and would want to get to know get to know you better. let me know what you think.\n"
          ]
        }
      ],
      "source": [
        "# prompt user for a message to loved one.\n",
        "# covert input to lower case with \".lower()\"\n",
        "message = input(\"Type a message to your loved one: \").lower()\n",
        "\n",
        "# Print inputted message\n",
        "print(message)\n"
      ]
    },
    {
      "cell_type": "code",
      "execution_count": null,
      "metadata": {
        "colab": {
          "base_uri": "https://localhost:8080/"
        },
        "id": "g1FZfCJQMLMf",
        "outputId": "b3a03890-8610-4783-f324-da8ef6c9044c"
      },
      "outputs": [
        {
          "name": "stdout",
          "output_type": "stream",
          "text": [
            "Name a natural law you know: Newton's third law of motion. It states that action and reaction are equal and oppostite.\n",
            "Newton's...third...law...of...motion....It...states...that...action...and...reaction...are...equal...and...oppostite.\n"
          ]
        }
      ],
      "source": [
        "# Prompt user for a scientific law and replace all instances of space with \"...\"\n",
        "nat_law = input(\"Name a natural law you know: \").replace(\" \", \"...\")\n",
        "\n",
        "# Print the user's response separated by \"...\"\n",
        "print(nat_law)"
      ]
    },
    {
      "cell_type": "code",
      "execution_count": null,
      "metadata": {
        "id": "EchROOwRPRZf"
      },
      "outputs": [],
      "source": [
        "print(\"Newton's third law of motion. It states that action and reaction are equal and oppostite.\", sep = '')"
      ]
    },
    {
      "cell_type": "code",
      "execution_count": null,
      "metadata": {
        "colab": {
          "base_uri": "https://localhost:8080/"
        },
        "id": "Y3PN7wyXXZST",
        "outputId": "ea93561d-d5e4-48ff-d436-a495f2081860"
      },
      "outputs": [
        {
          "name": "stdout",
          "output_type": "stream",
          "text": [
            "Write how you feel. Use emoticons where necessary >>>> I am sooo happyy :)\n",
            "I am sooo happyy 🙂\n"
          ]
        }
      ],
      "source": [
        "# define main function\n",
        "def main():\n",
        "  text = input(\"Write how you feel. Use emoticons where necessary >>>> \")\n",
        "  print(convert(text))\n",
        "\n",
        "# define convert function that converts emoticons to emojis.\n",
        "def convert(conv):\n",
        "  return conv.replace(\":)\", \"🙂\").replace(\":(\", \"🙁\")\n",
        "\n",
        "# call main function\n",
        "main()"
      ]
    },
    {
      "cell_type": "code",
      "execution_count": null,
      "metadata": {
        "colab": {
          "base_uri": "https://localhost:8080/"
        },
        "id": "qJj1AOhQ3Gw5",
        "outputId": "cda7033d-3ea5-45f2-e728-b36ae363b72f"
      },
      "outputs": [
        {
          "name": "stdout",
          "output_type": "stream",
          "text": [
            "Enter the mass: 67\n",
            "6,030,000,000,000,000,000 Joules\n"
          ]
        }
      ],
      "source": [
        "# Define the main function which prompts user to input mass and calls the energy function on the mass inputted.\n",
        "def main():\n",
        "  m = int(input(\"Enter the mass: \"))\n",
        "  print(f\"{energy(m):,} Joules\")\n",
        "\n",
        "# Define the energy function that takes in the inputted mass and multiplies it by the speed of light squared.\n",
        "def energy(mass):\n",
        " return mass*pow(300000000, 2)\n",
        "\n",
        "# Call the main function\n",
        "main()"
      ]
    },
    {
      "cell_type": "code",
      "execution_count": null,
      "metadata": {
        "colab": {
          "base_uri": "https://localhost:8080/"
        },
        "id": "9RfwgMHe3r2k",
        "outputId": "1f8ab2f5-b516-4470-b6cd-d7a2f16d7ae1"
      },
      "outputs": [
        {
          "data": {
            "text/plain": [
              "6030000000000000000"
            ]
          },
          "execution_count": 3,
          "metadata": {},
          "output_type": "execute_result"
        }
      ],
      "source": [
        "mass = 67\n",
        "\n",
        "mass*pow(300000000, 2)"
      ]
    },
    {
      "cell_type": "code",
      "execution_count": null,
      "metadata": {
        "colab": {
          "base_uri": "https://localhost:8080/"
        },
        "id": "bM0ZXb1GFxy0",
        "outputId": "5ac4571b-94aa-41b1-b00f-2631dcd552cd"
      },
      "outputs": [
        {
          "name": "stdout",
          "output_type": "stream",
          "text": [
            "How much was the meal? $50.00\n",
            "What percentage would you like to tip? 15%\n",
            "Leave $7.50\n"
          ]
        }
      ],
      "source": [
        "# define the main function that prompts user for inputs and performs the main arithmetic operation of the program.\n",
        "def main():\n",
        "    dollars = dollars_to_float(input(\"How much was the meal? \"))\n",
        "    percent = percent_to_float(input(\"What percentage would you like to tip? \"))\n",
        "    tip = dollars * percent\n",
        "    print(f\"Leave ${tip:.2f}\")\n",
        "\n",
        "# define the function that removes the dollar sign from one of the inputs and does a float conversion\n",
        "def dollars_to_float(d):\n",
        "    return float(d.removeprefix(\"$\"))\n",
        "\n",
        "# define the function that removes the percentage sign from one of the inputs and does a float conversion\n",
        "def percent_to_float(p):\n",
        "    return float(p.removesuffix(\"%\"))/100\n",
        "\n",
        "# call the main function\n",
        "main()"
      ]
    },
    {
      "cell_type": "code",
      "execution_count": null,
      "metadata": {
        "colab": {
          "base_uri": "https://localhost:8080/"
        },
        "id": "IJmPHR0iGOrl",
        "outputId": "36817005-7543-4160-fd63-735402d2e0bd"
      },
      "outputs": [
        {
          "name": "stdout",
          "output_type": "stream",
          "text": [
            "50.0\n"
          ]
        }
      ],
      "source": [
        "d= \"$50.00\"\n",
        "print(float(d.removeprefix(\"$\")))"
      ]
    },
    {
      "cell_type": "code",
      "execution_count": null,
      "metadata": {
        "colab": {
          "base_uri": "https://localhost:8080/"
        },
        "id": "CgFc_4clPBWW",
        "outputId": "1e37c84d-c9fe-4b7f-a8de-fc40d6d66c4d"
      },
      "outputs": [
        {
          "data": {
            "text/plain": [
              "0.15"
            ]
          },
          "execution_count": 27,
          "metadata": {},
          "output_type": "execute_result"
        }
      ],
      "source": [
        "p = \"15%\"\n",
        "float(p.removesuffix(\"%\"))/100"
      ]
    },
    {
      "cell_type": "code",
      "execution_count": null,
      "metadata": {
        "colab": {
          "base_uri": "https://localhost:8080/"
        },
        "id": "BJYkcvzgPYOT",
        "outputId": "3781982e-8196-4045-bd1b-3bbd20e7d382"
      },
      "outputs": [
        {
          "name": "stdout",
          "output_type": "stream",
          "text": [
            "What is x? 4766788\n",
            "even\n"
          ]
        }
      ],
      "source": [
        "def main():\n",
        "  x = int(input(\"What is x? \"))\n",
        "  if is_even(x):\n",
        "    print(\"even\")\n",
        "  else:\n",
        "    print(\"odd\")\n",
        "\n",
        "\n",
        "def is_even(n):\n",
        "  if n % 2 == 0:\n",
        "    return True\n",
        "  else:\n",
        "    return False\n",
        "\n",
        "main()"
      ]
    },
    {
      "cell_type": "code",
      "execution_count": null,
      "metadata": {
        "colab": {
          "base_uri": "https://localhost:8080/"
        },
        "id": "621ogzqXT0ha",
        "outputId": "1d45dd50-a8b8-436a-ebad-7b458a721422"
      },
      "outputs": [
        {
          "name": "stdout",
          "output_type": "stream",
          "text": [
            "What is x? 68\n",
            "even\n"
          ]
        }
      ],
      "source": [
        "# making the code above shorter and better\n",
        "def main():\n",
        "  x = int(input(\"What is x? \"))\n",
        "  if is_even(x):\n",
        "    print(\"even\")\n",
        "  else:\n",
        "    print(\"odd\")\n",
        "\n",
        "# shorten code\n",
        "def is_even(n):\n",
        " return True if n % 2 == 0 else False\n",
        "\n",
        "main()"
      ]
    },
    {
      "cell_type": "code",
      "execution_count": null,
      "metadata": {
        "colab": {
          "base_uri": "https://localhost:8080/"
        },
        "id": "lQw56ssCU77b",
        "outputId": "275545ed-46c5-47e3-e370-7009944c6c02"
      },
      "outputs": [
        {
          "name": "stdout",
          "output_type": "stream",
          "text": [
            "What is x? 5768\n",
            "even\n"
          ]
        }
      ],
      "source": [
        "# making the code above shorter and better\n",
        "def main():\n",
        "  x = int(input(\"What is x? \"))\n",
        "  if is_even(x):\n",
        "    print(\"even\")\n",
        "  else:\n",
        "    print(\"odd\")\n",
        "\n",
        "# shorten code even further i.e. make it more pythonic\n",
        "def is_even(n):\n",
        " return n % 2 == 0\n",
        "\n",
        "main()"
      ]
    },
    {
      "cell_type": "markdown",
      "metadata": {
        "id": "ucgPlvzhYI1N"
      },
      "source": [
        "### \"match\" and \"case\" keywords"
      ]
    },
    {
      "cell_type": "code",
      "execution_count": null,
      "metadata": {
        "colab": {
          "base_uri": "https://localhost:8080/"
        },
        "id": "HXWyfnidXe2W",
        "outputId": "8df9ef89-c5d4-485b-c66e-b02192af791e"
      },
      "outputs": [
        {
          "name": "stdout",
          "output_type": "stream",
          "text": [
            "what is the name: slytherin\n",
            "who?\n"
          ]
        }
      ],
      "source": [
        "house = input(\"what is the name: \")\n",
        "\n",
        "match house:\n",
        "  case \"Harry\" | \"Hermione\" | \"Ron\":\n",
        "    print(\"Gryffindor\")\n",
        "  case \"Draco\":\n",
        "    print(\"Slytherin\")\n",
        "  case _:\n",
        "    print(\"who?\")"
      ]
    },
    {
      "cell_type": "code",
      "execution_count": null,
      "metadata": {
        "colab": {
          "base_uri": "https://localhost:8080/"
        },
        "id": "fR5SmTisYlu3",
        "outputId": "e8f4a62c-ff3e-4b30-ef7f-74c729cbb61f"
      },
      "outputs": [
        {
          "name": "stdout",
          "output_type": "stream",
          "text": [
            "What is the answer to the great question of life? forty-three\n",
            "No\n"
          ]
        }
      ],
      "source": [
        "answer = input(\"What is the answer to the great question of life? \")\n",
        "\n",
        "match answer:\n",
        "  case \"42\" | \" 42\" | \"42 \" | \" 42 \" | \"forty-two\" | \"forty two\"| \"FoRty TwO\":\n",
        "    print(\"Yes\")\n",
        "  case _:\n",
        "    print(\"No\")"
      ]
    },
    {
      "cell_type": "markdown",
      "metadata": {
        "id": "_jja51k1KktH"
      },
      "source": [
        "##Quine: if you know, you know"
      ]
    },
    {
      "cell_type": "code",
      "execution_count": null,
      "metadata": {
        "colab": {
          "base_uri": "https://localhost:8080/"
        },
        "id": "dAT8Ez9yJwwN",
        "outputId": "10b1a0d6-425f-4f71-b90c-3521b7539273"
      },
      "outputs": [
        {
          "name": "stdout",
          "output_type": "stream",
          "text": [
            "s='s=%r;print(s%%s)';print(s%s)\n"
          ]
        }
      ],
      "source": [
        "s='s=%r;print(s%%s)';print(s%s)"
      ]
    },
    {
      "cell_type": "code",
      "execution_count": null,
      "metadata": {
        "colab": {
          "base_uri": "https://localhost:8080/"
        },
        "id": "YIfabF2iZR6j",
        "outputId": "8f83bcc0-0ba7-4a02-c851-d3a17241cd3a"
      },
      "outputs": [
        {
          "name": "stdout",
          "output_type": "stream",
          "text": [
            "exec(s:='print(\"exec(s:=%r)\"%s)')\n"
          ]
        }
      ],
      "source": [
        "exec(s:='print(\"exec(s:=%r)\"%s)')"
      ]
    },
    {
      "cell_type": "code",
      "execution_count": null,
      "metadata": {
        "colab": {
          "base_uri": "https://localhost:8080/",
          "height": 131
        },
        "id": "jh_KE3SuaJGY",
        "outputId": "d681e45f-ea93-448f-cb5a-0d3b8ee0e10d"
      },
      "outputs": [
        {
          "ename": "SyntaxError",
          "evalue": "ignored",
          "output_type": "error",
          "traceback": [
            "\u001b[0;36m  File \u001b[0;32m\"<ipython-input-13-fb3693a32601>\"\u001b[0;36m, line \u001b[0;32m1\u001b[0m\n\u001b[0;31m    define main function\u001b[0m\n\u001b[0m           ^\u001b[0m\n\u001b[0;31mSyntaxError\u001b[0m\u001b[0;31m:\u001b[0m invalid syntax\n"
          ]
        }
      ],
      "source": [
        "# define main function\n",
        "def main():\n",
        "  greeting = input(\"Greeting: \").lower().strip()\n",
        "\n",
        "  if starts_with_hello(greeting):\n",
        "    print(\"$0\")\n",
        "\n",
        "  elif starts_with_h(greeting):\n",
        "    print(\"$20\")\n",
        "\n",
        "  else:\n",
        "    print(\"$100\")\n",
        "\n",
        "\n",
        "# define function that checks if the greeting starts with \"hello\"\n",
        "def starts_with_hello(hello):\n",
        "  return hello.startswith(\"hello\")\n",
        "\n",
        "# define function that checks if the greeting starts with \"h\"\n",
        "def starts_with_h(h):\n",
        "  return h.startswith(\"h\")\n",
        "\n",
        "# call the main function\n",
        "main()"
      ]
    },
    {
      "cell_type": "code",
      "execution_count": null,
      "metadata": {
        "colab": {
          "base_uri": "https://localhost:8080/"
        },
        "id": "hol2Hh5ceBpq",
        "outputId": "57eed697-a315-4f3d-dd49-53f2ee08c3d7"
      },
      "outputs": [
        {
          "data": {
            "text/plain": [
              "True"
            ]
          },
          "execution_count": 8,
          "metadata": {},
          "output_type": "execute_result"
        }
      ],
      "source": [
        "starts_with_h(h=\"Hello\")"
      ]
    },
    {
      "cell_type": "code",
      "execution_count": null,
      "metadata": {
        "colab": {
          "base_uri": "https://localhost:8080/"
        },
        "id": "iAYgOXl-b_ma",
        "outputId": "57a9c6ea-e865-41e8-914e-19a941ab5be6"
      },
      "outputs": [
        {
          "data": {
            "text/plain": [
              "True"
            ]
          },
          "execution_count": 2,
          "metadata": {},
          "output_type": "execute_result"
        }
      ],
      "source": [
        "h=\"Hello\"\n",
        "\n",
        "h.lower().startswith(\"h\")"
      ]
    },
    {
      "cell_type": "code",
      "execution_count": null,
      "metadata": {
        "colab": {
          "base_uri": "https://localhost:8080/",
          "height": 253
        },
        "id": "lgKX9j1KpGZw",
        "outputId": "6837a0cb-7a8e-4cdb-9576-959bb2d805f2"
      },
      "outputs": [
        {
          "name": "stdout",
          "output_type": "stream",
          "text": [
            "File name: balablu.txt.pdf\n"
          ]
        },
        {
          "ename": "ValueError",
          "evalue": "ignored",
          "output_type": "error",
          "traceback": [
            "\u001b[0;31m---------------------------------------------------------------------------\u001b[0m",
            "\u001b[0;31mValueError\u001b[0m                                Traceback (most recent call last)",
            "\u001b[0;32m<ipython-input-21-43d6cac50fdb>\u001b[0m in \u001b[0;36m<cell line: 2>\u001b[0;34m()\u001b[0m\n\u001b[1;32m      1\u001b[0m \u001b[0;31m# take input\u001b[0m\u001b[0;34m\u001b[0m\u001b[0;34m\u001b[0m\u001b[0m\n\u001b[0;32m----> 2\u001b[0;31m \u001b[0mprefix\u001b[0m\u001b[0;34m,\u001b[0m \u001b[0msuffix\u001b[0m \u001b[0;34m=\u001b[0m \u001b[0minput\u001b[0m\u001b[0;34m(\u001b[0m\u001b[0;34m\"File name: \"\u001b[0m\u001b[0;34m)\u001b[0m\u001b[0;34m.\u001b[0m\u001b[0mlower\u001b[0m\u001b[0;34m(\u001b[0m\u001b[0;34m)\u001b[0m\u001b[0;34m.\u001b[0m\u001b[0mstrip\u001b[0m\u001b[0;34m(\u001b[0m\u001b[0;34m)\u001b[0m\u001b[0;34m.\u001b[0m\u001b[0msplit\u001b[0m\u001b[0;34m(\u001b[0m\u001b[0msep\u001b[0m\u001b[0;34m=\u001b[0m\u001b[0;34m\".\"\u001b[0m\u001b[0;34m)\u001b[0m\u001b[0;34m\u001b[0m\u001b[0;34m\u001b[0m\u001b[0m\n\u001b[0m\u001b[1;32m      3\u001b[0m \u001b[0;34m\u001b[0m\u001b[0m\n\u001b[1;32m      4\u001b[0m \u001b[0;34m\u001b[0m\u001b[0m\n\u001b[1;32m      5\u001b[0m \u001b[0mmatch\u001b[0m \u001b[0msuffix\u001b[0m\u001b[0;34m:\u001b[0m\u001b[0;34m\u001b[0m\u001b[0;34m\u001b[0m\u001b[0m\n",
            "\u001b[0;31mValueError\u001b[0m: too many values to unpack (expected 2)"
          ]
        }
      ],
      "source": [
        "# take input\n",
        "prefix, suffix = input(\"File name: \").lower().strip().split(sep=\".\")\n",
        "\n",
        "\n",
        "match suffix:\n",
        "  case \"gif\"|\"jpeg\"|\"jpg\"|\"png\":\n",
        "    print(f\"image/{suffix}\")\n",
        "  case \"zip\"|\"pdf\":\n",
        "    print(f\"application/{suffix}\")\n",
        "  case \"txt\":\n",
        "    print(\"text/plain\")\n",
        "  case _:\n",
        "    print(\"application/octet-stream\")"
      ]
    },
    {
      "cell_type": "code",
      "execution_count": null,
      "metadata": {
        "colab": {
          "base_uri": "https://localhost:8080/",
          "height": 607
        },
        "id": "jQ5Ye3kp8IvB",
        "outputId": "fca6394e-15f1-48c6-b558-60780d3c7f4e"
      },
      "outputs": [
        {
          "ename": "KeyboardInterrupt",
          "evalue": "ignored",
          "output_type": "error",
          "traceback": [
            "\u001b[0;31m---------------------------------------------------------------------------\u001b[0m",
            "\u001b[0;31mKeyboardInterrupt\u001b[0m                         Traceback (most recent call last)",
            "\u001b[0;32m<ipython-input-1-aa2cfa0d447a>\u001b[0m in \u001b[0;36m<cell line: 2>\u001b[0;34m()\u001b[0m\n\u001b[1;32m      1\u001b[0m \u001b[0;31m# Take input\u001b[0m\u001b[0;34m\u001b[0m\u001b[0;34m\u001b[0m\u001b[0m\n\u001b[0;32m----> 2\u001b[0;31m \u001b[0mfile\u001b[0m \u001b[0;34m=\u001b[0m \u001b[0minput\u001b[0m\u001b[0;34m(\u001b[0m\u001b[0;34m\"File name: \"\u001b[0m\u001b[0;34m)\u001b[0m\u001b[0;34m.\u001b[0m\u001b[0mlower\u001b[0m\u001b[0;34m(\u001b[0m\u001b[0;34m)\u001b[0m\u001b[0;34m.\u001b[0m\u001b[0mstrip\u001b[0m\u001b[0;34m(\u001b[0m\u001b[0;34m)\u001b[0m\u001b[0;34m\u001b[0m\u001b[0;34m\u001b[0m\u001b[0m\n\u001b[0m\u001b[1;32m      3\u001b[0m \u001b[0;34m\u001b[0m\u001b[0m\n\u001b[1;32m      4\u001b[0m \u001b[0;31m# Determine the MIME type based on the suffix\u001b[0m\u001b[0;34m\u001b[0m\u001b[0;34m\u001b[0m\u001b[0m\n\u001b[1;32m      5\u001b[0m \u001b[0;32mif\u001b[0m \u001b[0mfile\u001b[0m\u001b[0;34m.\u001b[0m\u001b[0mendswith\u001b[0m\u001b[0;34m(\u001b[0m\u001b[0;34m(\u001b[0m\u001b[0;34m\".gif\"\u001b[0m\u001b[0;34m)\u001b[0m\u001b[0;34m)\u001b[0m\u001b[0;34m:\u001b[0m\u001b[0;34m\u001b[0m\u001b[0;34m\u001b[0m\u001b[0m\n",
            "\u001b[0;32m/usr/local/lib/python3.10/dist-packages/ipykernel/kernelbase.py\u001b[0m in \u001b[0;36mraw_input\u001b[0;34m(self, prompt)\u001b[0m\n\u001b[1;32m    849\u001b[0m                 \u001b[0;34m\"raw_input was called, but this frontend does not support input requests.\"\u001b[0m\u001b[0;34m\u001b[0m\u001b[0;34m\u001b[0m\u001b[0m\n\u001b[1;32m    850\u001b[0m             )\n\u001b[0;32m--> 851\u001b[0;31m         return self._input_request(str(prompt),\n\u001b[0m\u001b[1;32m    852\u001b[0m             \u001b[0mself\u001b[0m\u001b[0;34m.\u001b[0m\u001b[0m_parent_ident\u001b[0m\u001b[0;34m,\u001b[0m\u001b[0;34m\u001b[0m\u001b[0;34m\u001b[0m\u001b[0m\n\u001b[1;32m    853\u001b[0m             \u001b[0mself\u001b[0m\u001b[0;34m.\u001b[0m\u001b[0m_parent_header\u001b[0m\u001b[0;34m,\u001b[0m\u001b[0;34m\u001b[0m\u001b[0;34m\u001b[0m\u001b[0m\n",
            "\u001b[0;32m/usr/local/lib/python3.10/dist-packages/ipykernel/kernelbase.py\u001b[0m in \u001b[0;36m_input_request\u001b[0;34m(self, prompt, ident, parent, password)\u001b[0m\n\u001b[1;32m    893\u001b[0m             \u001b[0;32mexcept\u001b[0m \u001b[0mKeyboardInterrupt\u001b[0m\u001b[0;34m:\u001b[0m\u001b[0;34m\u001b[0m\u001b[0;34m\u001b[0m\u001b[0m\n\u001b[1;32m    894\u001b[0m                 \u001b[0;31m# re-raise KeyboardInterrupt, to truncate traceback\u001b[0m\u001b[0;34m\u001b[0m\u001b[0;34m\u001b[0m\u001b[0m\n\u001b[0;32m--> 895\u001b[0;31m                 \u001b[0;32mraise\u001b[0m \u001b[0mKeyboardInterrupt\u001b[0m\u001b[0;34m(\u001b[0m\u001b[0;34m\"Interrupted by user\"\u001b[0m\u001b[0;34m)\u001b[0m \u001b[0;32mfrom\u001b[0m \u001b[0;32mNone\u001b[0m\u001b[0;34m\u001b[0m\u001b[0;34m\u001b[0m\u001b[0m\n\u001b[0m\u001b[1;32m    896\u001b[0m             \u001b[0;32mexcept\u001b[0m \u001b[0mException\u001b[0m \u001b[0;32mas\u001b[0m \u001b[0me\u001b[0m\u001b[0;34m:\u001b[0m\u001b[0;34m\u001b[0m\u001b[0;34m\u001b[0m\u001b[0m\n\u001b[1;32m    897\u001b[0m                 \u001b[0mself\u001b[0m\u001b[0;34m.\u001b[0m\u001b[0mlog\u001b[0m\u001b[0;34m.\u001b[0m\u001b[0mwarning\u001b[0m\u001b[0;34m(\u001b[0m\u001b[0;34m\"Invalid Message:\"\u001b[0m\u001b[0;34m,\u001b[0m \u001b[0mexc_info\u001b[0m\u001b[0;34m=\u001b[0m\u001b[0;32mTrue\u001b[0m\u001b[0;34m)\u001b[0m\u001b[0;34m\u001b[0m\u001b[0;34m\u001b[0m\u001b[0m\n",
            "\u001b[0;31mKeyboardInterrupt\u001b[0m: Interrupted by user"
          ]
        }
      ],
      "source": [
        "# Take input\n",
        "file = input(\"File name: \").lower().strip()\n",
        "\n",
        "# Determine the MIME type based on the suffix\n",
        "if file.endswith((\".gif\")):\n",
        "  print(\"image/gif\")\n",
        "elif file.endswith((\".jpg\")):\n",
        "  print(\"image/jpeg\")\n",
        "elif file.endswith((\".jpeg\")):\n",
        "  print(\"image/jpeg\")\n",
        "elif file.endswith((\".pdf\")):\n",
        "  print(\"application/pdf\")\n",
        "elif file.endswith((\".zip\")):\n",
        "  print(\"application/zip\")\n",
        "elif file.endswith((\".txt\")):\n",
        "  print(\"text/plain\")\n",
        "elif file.endswith((\".png\")):\n",
        "  print(\"image/png\")\n",
        "else:\n",
        "  print(\"application/octet-stream\")"
      ]
    },
    {
      "cell_type": "code",
      "execution_count": null,
      "metadata": {
        "colab": {
          "base_uri": "https://localhost:8080/"
        },
        "id": "u5LwM0VqEqfj",
        "outputId": "16bcff7d-d14e-470c-b707-bc8c47dff74a"
      },
      "outputs": [
        {
          "name": "stdout",
          "output_type": "stream",
          "text": [
            "File name: balablu.jpg\n",
            "image/jpg\n"
          ]
        }
      ],
      "source": [
        "# Take input\n",
        "file_name = input(\"File name: \").lower().strip()\n",
        "prefix, suffix = file_name.rsplit(\".\", 1)\n",
        "\n",
        "# Determine the MIME type based on the suffix\n",
        "if suffix in [\"gif\", \"jpeg\", \"jpg\", \"png\"]:\n",
        "    mime_type = f\"image/{suffix}\"\n",
        "elif suffix in [\"zip\", \"pdf\"]:\n",
        "    mime_type = f\"application/{suffix}\"\n",
        "elif suffix == \"txt\":\n",
        "    mime_type = \"text/plain\"\n",
        "else:\n",
        "    mime_type = \"application/octet-stream\"\n",
        "\n",
        "print(mime_type)"
      ]
    },
    {
      "cell_type": "code",
      "execution_count": null,
      "metadata": {
        "colab": {
          "base_uri": "https://localhost:8080/"
        },
        "id": "X6YLGl5cH-q8",
        "outputId": "7ed57fc7-1060-485f-e5e0-72f6eac59807"
      },
      "outputs": [
        {
          "name": "stdout",
          "output_type": "stream",
          "text": [
            "File name: yhfhfghg.testxbd.txt\n",
            "text/plain\n"
          ]
        }
      ],
      "source": [
        "# Take input\n",
        "file_name = input(\"File name: \").lower().strip()\n",
        "\n",
        "# Check if the file name has an extension\n",
        "if \".\" in file_name:\n",
        "    prefix, suffix = file_name.rsplit(\".\", 1)\n",
        "else:\n",
        "    prefix = file_name\n",
        "    suffix = \"\"\n",
        "\n",
        "# Determine the MIME type based on the suffix\n",
        "if suffix in [\"gif\", \"jpeg\", \"jpg\", \"png\"]:\n",
        "    mime_type = f\"image/{suffix}\"\n",
        "elif suffix in [\"zip\", \"pdf\"]:\n",
        "    mime_type = f\"application/{suffix}\"\n",
        "elif suffix == \"txt\":\n",
        "    mime_type = \"text/plain\"\n",
        "else:\n",
        "    mime_type = \"application/octet-stream\"\n",
        "\n",
        "print(mime_type)\n"
      ]
    },
    {
      "cell_type": "code",
      "execution_count": null,
      "metadata": {
        "id": "Il3182tTIHkB"
      },
      "outputs": [],
      "source": [
        "# Take input\n",
        "file_name = input(\"File name: \").lower().strip()\n",
        "prefix, suffix = file_name.rsplit(\".\", 1)\n",
        "\n",
        "# Define mapping of suffixes to MIME types\n",
        "mime_types = {\n",
        "    \"gif\": \"image/gif\",\n",
        "    \"jpeg\": \"image/jpeg\",\n",
        "    \"jpg\": \"image/jpeg\",\n",
        "    \"png\": \"image/png\",\n",
        "    \"zip\": \"application/zip\",\n",
        "    \"pdf\": \"application/pdf\",\n",
        "    \"txt\": \"text/plain\"\n",
        "}\n",
        "\n",
        "# Get the MIME type based on the suffix\n",
        "mime_type = mime_types.get(suffix, \"application/octet-stream\")\n",
        "print(mime_type)\n"
      ]
    },
    {
      "cell_type": "code",
      "execution_count": null,
      "metadata": {
        "colab": {
          "base_uri": "https://localhost:8080/"
        },
        "id": "eif_KrO-rjcg",
        "outputId": "8e5101af-db91-4d07-8ccd-ec07f16a52ea"
      },
      "outputs": [
        {
          "name": "stdout",
          "output_type": "stream",
          "text": [
            "Expression: 3 + 3\n",
            "6.0\n"
          ]
        }
      ],
      "source": [
        "# take input\n",
        "x, y, z = input(\"Expression: \").split()\n",
        "x = int(x)\n",
        "z = int(z)\n",
        "\n",
        "# determine what arithmetic operation to perform\n",
        "match y:\n",
        "  case \"+\":\n",
        "    print(f\"{x + z:.1f}\")\n",
        "  case \"-\":\n",
        "    print(f\"{x - z:.1f}\")\n",
        "  case \"*\":\n",
        "    print(f\"{x * z:.1f}\")\n",
        "  case \"/\":\n",
        "    if z != 0:\n",
        "        print(f\"{x / z:.1f}\")\n",
        "    else:\n",
        "        print(\"Error: Can't divide by zero.\")\n"
      ]
    },
    {
      "cell_type": "code",
      "execution_count": null,
      "metadata": {
        "colab": {
          "base_uri": "https://localhost:8080/"
        },
        "id": "oIENbNv2lxnC",
        "outputId": "2918841b-2a7b-4f19-c396-1761036a7920"
      },
      "outputs": [
        {
          "name": "stdout",
          "output_type": "stream",
          "text": [
            "Expression: 2 - 3\n",
            "-1.0\n"
          ]
        }
      ],
      "source": [
        "# take input\n",
        "x, y, z = input(\"Expression: \").split()\n",
        "x = int(x)\n",
        "z = int(z)\n",
        "\n",
        "# determine what arithmetic operation to perform\n",
        "match y:\n",
        "  case \"+\":\n",
        "    print(f\"{x + z:.1f}\")\n",
        "  case \"-\":\n",
        "    print(f\"{x - z:.1f}\")\n",
        "  case \"*\":\n",
        "    print(f\"{x * z:.1f}\")\n",
        "  case \"/\":\n",
        "    if z != 0:\n",
        "        print(f\"{x / z:.1f}\")\n",
        "    else:\n",
        "        print(\"Error: Can't divide by zero.\")"
      ]
    },
    {
      "cell_type": "code",
      "execution_count": null,
      "metadata": {
        "colab": {
          "base_uri": "https://localhost:8080/"
        },
        "id": "PT_AHe-7bLwI",
        "outputId": "1d841376-667b-4c8a-c4a0-15766876c1fb"
      },
      "outputs": [
        {
          "name": "stdout",
          "output_type": "stream",
          "text": [
            "What time is it? 8:50\n"
          ]
        }
      ],
      "source": [
        "def main():\n",
        "  time = input(\"What time is it? \")\n",
        "  hours = convert(time)\n",
        "  if 7 <= hours <= 8:\n",
        "    print(\"breakfast time\")\n",
        "  elif 12 <= hours <= 13:\n",
        "    print(\"lunch time\")\n",
        "  elif 18 <= hours <= 19:\n",
        "    print(\"dinner time\")\n",
        "  #else:\n",
        "  #  print(\"\")\n",
        "\n",
        "def convert(time):\n",
        "  hours, minutes = map(int, time.split(\":\"))\n",
        "  return hours + (minutes/60)\n",
        "\n",
        "if __name__ == \"__main__\":\n",
        "    main()"
      ]
    },
    {
      "cell_type": "code",
      "execution_count": null,
      "metadata": {
        "colab": {
          "base_uri": "https://localhost:8080/",
          "height": 166
        },
        "id": "EY8gOOg4dC3l",
        "outputId": "f7a69e7c-c3af-4bcc-dde4-287918864e06"
      },
      "outputs": [
        {
          "ename": "NameError",
          "evalue": "ignored",
          "output_type": "error",
          "traceback": [
            "\u001b[0;31m---------------------------------------------------------------------------\u001b[0m",
            "\u001b[0;31mNameError\u001b[0m                                 Traceback (most recent call last)",
            "\u001b[0;32m<ipython-input-32-1364b5af584f>\u001b[0m in \u001b[0;36m<cell line: 1>\u001b[0;34m()\u001b[0m\n\u001b[0;32m----> 1\u001b[0;31m \u001b[0mprint\u001b[0m\u001b[0;34m(\u001b[0m\u001b[0mhours\u001b[0m\u001b[0;34m)\u001b[0m\u001b[0;34m\u001b[0m\u001b[0;34m\u001b[0m\u001b[0m\n\u001b[0m",
            "\u001b[0;31mNameError\u001b[0m: name 'hours' is not defined"
          ]
        }
      ],
      "source": [
        "print(hours)"
      ]
    },
    {
      "cell_type": "code",
      "execution_count": null,
      "metadata": {
        "id": "ySFh3Z8JldlQ"
      },
      "outputs": [],
      "source": [
        "if 7 <= hours <= 8:\n",
        "    print(\"breakfast time\")\n",
        "  elif 12 <= hours <= 13:\n",
        "    print(\"lunch time\")\n",
        "  elif 18 <= hours <= 19:\n",
        "    print(\"dinner time\")\n",
        "  else:\n",
        "    print(\"\")"
      ]
    },
    {
      "cell_type": "code",
      "execution_count": null,
      "metadata": {
        "colab": {
          "base_uri": "https://localhost:8080/"
        },
        "id": "rsFsCnzRN_jL",
        "outputId": "00155857-d418-4fb7-b6b5-35dc0dda13f1"
      },
      "outputs": [
        {
          "name": "stdout",
          "output_type": "stream",
          "text": [
            "1\n",
            "2\n",
            "3\n"
          ]
        }
      ],
      "source": [
        " i = 0\n",
        " while i < 3:\n",
        "  i += 1\n",
        "  print(i)"
      ]
    },
    {
      "cell_type": "code",
      "execution_count": null,
      "metadata": {
        "colab": {
          "base_uri": "https://localhost:8080/"
        },
        "id": "-5l6NcCgGhsN",
        "outputId": "c6c30011-9453-4045-c430-9b10853059fc"
      },
      "outputs": [
        {
          "name": "stdout",
          "output_type": "stream",
          "text": [
            "Meow\n",
            "Meow\n",
            "Meow\n"
          ]
        }
      ],
      "source": [
        "# in the code above i is not being used, so it can be replaced with an underscore (_) in the \"for\" syntax\n",
        "for _  in range(3):\n",
        "  print(\"Meow\")"
      ]
    },
    {
      "cell_type": "code",
      "execution_count": null,
      "metadata": {
        "colab": {
          "base_uri": "https://localhost:8080/"
        },
        "id": "gALYoya8Hb1O",
        "outputId": "a53f889c-bc14-4470-91b8-b71ad354ae7a"
      },
      "outputs": [
        {
          "name": "stdout",
          "output_type": "stream",
          "text": [
            "Meow\n",
            "Meow\n",
            "Meow\n"
          ]
        }
      ],
      "source": [
        "print(\"Meow\\n\" * 3, end=\"\")"
      ]
    },
    {
      "cell_type": "code",
      "execution_count": null,
      "metadata": {
        "colab": {
          "base_uri": "https://localhost:8080/"
        },
        "id": "8YemOOvmOKjU",
        "outputId": "7eb8685f-4989-4338-83e5-2f45703ee11f"
      },
      "outputs": [
        {
          "name": "stdout",
          "output_type": "stream",
          "text": [
            "range(0, 100)\n"
          ]
        }
      ],
      "source": [
        "print(range(100))"
      ]
    },
    {
      "cell_type": "code",
      "execution_count": null,
      "metadata": {
        "colab": {
          "base_uri": "https://localhost:8080/"
        },
        "id": "HGd9p5_bGQpr",
        "outputId": "7b518204-1ff4-4c7d-81c2-20d9de5a5561"
      },
      "outputs": [
        {
          "name": "stdout",
          "output_type": "stream",
          "text": [
            "What is n? 0\n",
            "What is n? -9\n",
            "What is n? -0\n",
            "What is n? 9\n",
            "Meow\n",
            "Meow\n",
            "Meow\n",
            "Meow\n",
            "Meow\n",
            "Meow\n",
            "Meow\n",
            "Meow\n",
            "Meow\n"
          ]
        }
      ],
      "source": [
        "while True:\n",
        "  n = int(input(\"What is n? \"))\n",
        "  if n > 0:\n",
        "    break\n",
        "\n",
        "for _ in range(n):\n",
        "  print(\"Meow\")"
      ]
    },
    {
      "cell_type": "code",
      "execution_count": null,
      "metadata": {
        "colab": {
          "base_uri": "https://localhost:8080/",
          "height": 364
        },
        "id": "4E3pc0L8Kk4A",
        "outputId": "e5a38be2-3755-4d4d-b524-28cf8d6d6151"
      },
      "outputs": [
        {
          "name": "stdout",
          "output_type": "stream",
          "text": [
            "input a positive value\n"
          ]
        },
        {
          "ename": "KeyboardInterrupt",
          "evalue": "ignored",
          "output_type": "error",
          "traceback": [
            "\u001b[0;31m---------------------------------------------------------------------------\u001b[0m",
            "\u001b[0;31mKeyboardInterrupt\u001b[0m                         Traceback (most recent call last)",
            "\u001b[0;32m<ipython-input-1-dca34cb9b499>\u001b[0m in \u001b[0;36m<cell line: 20>\u001b[0;34m()\u001b[0m\n\u001b[1;32m     18\u001b[0m     \u001b[0mprint\u001b[0m\u001b[0;34m(\u001b[0m\u001b[0;34m\"Meow\"\u001b[0m\u001b[0;34m)\u001b[0m\u001b[0;34m\u001b[0m\u001b[0;34m\u001b[0m\u001b[0m\n\u001b[1;32m     19\u001b[0m \u001b[0;34m\u001b[0m\u001b[0m\n\u001b[0;32m---> 20\u001b[0;31m \u001b[0mmain\u001b[0m\u001b[0;34m(\u001b[0m\u001b[0;34m)\u001b[0m\u001b[0;34m\u001b[0m\u001b[0;34m\u001b[0m\u001b[0m\n\u001b[0m",
            "\u001b[0;32m<ipython-input-1-dca34cb9b499>\u001b[0m in \u001b[0;36mmain\u001b[0;34m()\u001b[0m\n\u001b[1;32m      1\u001b[0m \u001b[0;32mdef\u001b[0m \u001b[0mmain\u001b[0m\u001b[0;34m(\u001b[0m\u001b[0;34m)\u001b[0m\u001b[0;34m:\u001b[0m\u001b[0;34m\u001b[0m\u001b[0;34m\u001b[0m\u001b[0m\n\u001b[1;32m      2\u001b[0m \u001b[0;34m\u001b[0m\u001b[0m\n\u001b[0;32m----> 3\u001b[0;31m   \u001b[0mnumber\u001b[0m \u001b[0;34m=\u001b[0m \u001b[0mget_number\u001b[0m\u001b[0;34m(\u001b[0m\u001b[0;34m)\u001b[0m\u001b[0;34m\u001b[0m\u001b[0;34m\u001b[0m\u001b[0m\n\u001b[0m\u001b[1;32m      4\u001b[0m   \u001b[0mmeow\u001b[0m\u001b[0;34m(\u001b[0m\u001b[0mnumber\u001b[0m\u001b[0;34m)\u001b[0m\u001b[0;34m\u001b[0m\u001b[0;34m\u001b[0m\u001b[0m\n\u001b[1;32m      5\u001b[0m \u001b[0;34m\u001b[0m\u001b[0m\n",
            "\u001b[0;32m<ipython-input-1-dca34cb9b499>\u001b[0m in \u001b[0;36mget_number\u001b[0;34m()\u001b[0m\n\u001b[1;32m      8\u001b[0m \u001b[0;32mdef\u001b[0m \u001b[0mget_number\u001b[0m\u001b[0;34m(\u001b[0m\u001b[0;34m)\u001b[0m\u001b[0;34m:\u001b[0m\u001b[0;34m\u001b[0m\u001b[0;34m\u001b[0m\u001b[0m\n\u001b[1;32m      9\u001b[0m   \u001b[0;32mwhile\u001b[0m \u001b[0;32mTrue\u001b[0m\u001b[0;34m:\u001b[0m\u001b[0;34m\u001b[0m\u001b[0;34m\u001b[0m\u001b[0m\n\u001b[0;32m---> 10\u001b[0;31m     \u001b[0mn\u001b[0m \u001b[0;34m=\u001b[0m \u001b[0mint\u001b[0m\u001b[0;34m(\u001b[0m\u001b[0minput\u001b[0m\u001b[0;34m(\u001b[0m\u001b[0;34m\"What is n? \"\u001b[0m\u001b[0;34m)\u001b[0m\u001b[0;34m)\u001b[0m\u001b[0;34m\u001b[0m\u001b[0;34m\u001b[0m\u001b[0m\n\u001b[0m\u001b[1;32m     11\u001b[0m     \u001b[0;32mif\u001b[0m \u001b[0mn\u001b[0m \u001b[0;34m<=\u001b[0m \u001b[0;36m0\u001b[0m\u001b[0;34m:\u001b[0m\u001b[0;34m\u001b[0m\u001b[0;34m\u001b[0m\u001b[0m\n\u001b[1;32m     12\u001b[0m       \u001b[0mprint\u001b[0m\u001b[0;34m(\u001b[0m\u001b[0;34m\"input a positive value\"\u001b[0m\u001b[0;34m)\u001b[0m\u001b[0;34m\u001b[0m\u001b[0;34m\u001b[0m\u001b[0m\n",
            "\u001b[0;32m/usr/local/lib/python3.10/dist-packages/ipykernel/kernelbase.py\u001b[0m in \u001b[0;36mraw_input\u001b[0;34m(self, prompt)\u001b[0m\n\u001b[1;32m    849\u001b[0m                 \u001b[0;34m\"raw_input was called, but this frontend does not support input requests.\"\u001b[0m\u001b[0;34m\u001b[0m\u001b[0;34m\u001b[0m\u001b[0m\n\u001b[1;32m    850\u001b[0m             )\n\u001b[0;32m--> 851\u001b[0;31m         return self._input_request(str(prompt),\n\u001b[0m\u001b[1;32m    852\u001b[0m             \u001b[0mself\u001b[0m\u001b[0;34m.\u001b[0m\u001b[0m_parent_ident\u001b[0m\u001b[0;34m,\u001b[0m\u001b[0;34m\u001b[0m\u001b[0;34m\u001b[0m\u001b[0m\n\u001b[1;32m    853\u001b[0m             \u001b[0mself\u001b[0m\u001b[0;34m.\u001b[0m\u001b[0m_parent_header\u001b[0m\u001b[0;34m,\u001b[0m\u001b[0;34m\u001b[0m\u001b[0;34m\u001b[0m\u001b[0m\n",
            "\u001b[0;32m/usr/local/lib/python3.10/dist-packages/ipykernel/kernelbase.py\u001b[0m in \u001b[0;36m_input_request\u001b[0;34m(self, prompt, ident, parent, password)\u001b[0m\n\u001b[1;32m    893\u001b[0m             \u001b[0;32mexcept\u001b[0m \u001b[0mKeyboardInterrupt\u001b[0m\u001b[0;34m:\u001b[0m\u001b[0;34m\u001b[0m\u001b[0;34m\u001b[0m\u001b[0m\n\u001b[1;32m    894\u001b[0m                 \u001b[0;31m# re-raise KeyboardInterrupt, to truncate traceback\u001b[0m\u001b[0;34m\u001b[0m\u001b[0;34m\u001b[0m\u001b[0m\n\u001b[0;32m--> 895\u001b[0;31m                 \u001b[0;32mraise\u001b[0m \u001b[0mKeyboardInterrupt\u001b[0m\u001b[0;34m(\u001b[0m\u001b[0;34m\"Interrupted by user\"\u001b[0m\u001b[0;34m)\u001b[0m \u001b[0;32mfrom\u001b[0m \u001b[0;32mNone\u001b[0m\u001b[0;34m\u001b[0m\u001b[0;34m\u001b[0m\u001b[0m\n\u001b[0m\u001b[1;32m    896\u001b[0m             \u001b[0;32mexcept\u001b[0m \u001b[0mException\u001b[0m \u001b[0;32mas\u001b[0m \u001b[0me\u001b[0m\u001b[0;34m:\u001b[0m\u001b[0;34m\u001b[0m\u001b[0;34m\u001b[0m\u001b[0m\n\u001b[1;32m    897\u001b[0m                 \u001b[0mself\u001b[0m\u001b[0;34m.\u001b[0m\u001b[0mlog\u001b[0m\u001b[0;34m.\u001b[0m\u001b[0mwarning\u001b[0m\u001b[0;34m(\u001b[0m\u001b[0;34m\"Invalid Message:\"\u001b[0m\u001b[0;34m,\u001b[0m \u001b[0mexc_info\u001b[0m\u001b[0;34m=\u001b[0m\u001b[0;32mTrue\u001b[0m\u001b[0;34m)\u001b[0m\u001b[0;34m\u001b[0m\u001b[0;34m\u001b[0m\u001b[0m\n",
            "\u001b[0;31mKeyboardInterrupt\u001b[0m: Interrupted by user"
          ]
        }
      ],
      "source": [
        "def main():\n",
        "\n",
        "  number = get_number()\n",
        "  meow(number)\n",
        "\n",
        "\n",
        "\n",
        "def get_number():\n",
        "  while True:\n",
        "    n = int(input(\"What is n? \"))\n",
        "    if n <= 0:\n",
        "      print(\"input a positive value\")\n",
        "    else:\n",
        "      return n\n",
        "\n",
        "def meow(n):\n",
        "  for _ in range(n):\n",
        "    print(\"Meow\")\n",
        "\n",
        "main()"
      ]
    },
    {
      "cell_type": "code",
      "execution_count": null,
      "metadata": {
        "colab": {
          "base_uri": "https://localhost:8080/"
        },
        "id": "LWI7BbuntLp1",
        "outputId": "e7a7b254-5c5c-4da1-81b5-584596316d81"
      },
      "outputs": [
        {
          "name": "stdout",
          "output_type": "stream",
          "text": [
            "1 America\n",
            "2 Nigeria\n",
            "3 Canada\n",
            "4 Sweden\n"
          ]
        }
      ],
      "source": [
        "countries=[\"America\", \"Nigeria\", \"Canada\", \"Sweden\"]\n",
        "\n",
        "for i in range(len(countries)):\n",
        "  print(i + 1, countries[i])"
      ]
    },
    {
      "cell_type": "code",
      "execution_count": null,
      "metadata": {
        "colab": {
          "base_uri": "https://localhost:8080/"
        },
        "id": "7OFYA2p7EWhv",
        "outputId": "330e4c53-fad0-41f3-b76f-536c82fe6408"
      },
      "outputs": [
        {
          "name": "stdout",
          "output_type": "stream",
          "text": [
            "Ayooluwa, Ketu, fleet department\n",
            "Akinlolu, Olowora, commercial department\n",
            "Eniola, Lekki, HR\n",
            "Innocent, Magodo, Estate\n"
          ]
        }
      ],
      "source": [
        "students = [\n",
        "    {\"name\": \"Ayooluwa\", \"residence\": \"Ketu\", \"dept.\": \"fleet department\"},\n",
        "    {\"name\": \"Akinlolu\", \"residence\": \"Olowora\", \"dept.\": \"commercial department\"},\n",
        "    {\"name\": \"Eniola\", \"residence\": \"Lekki\", \"dept.\": \"HR\"},\n",
        "    {\"name\": \"Innocent\", \"residence\": \"Magodo\", \"dept.\": \"Estate\"},\n",
        "]\n",
        "\n",
        "for student in students:\n",
        "  print(student[\"name\"], student[\"residence\"], student[\"dept.\"], sep = \", \")"
      ]
    },
    {
      "cell_type": "code",
      "execution_count": null,
      "metadata": {
        "id": "N9mAhCReFY7x"
      },
      "outputs": [],
      "source": [
        "def main():\n",
        "  name"
      ]
    },
    {
      "cell_type": "code",
      "execution_count": null,
      "metadata": {
        "colab": {
          "base_uri": "https://localhost:8080/"
        },
        "id": "j0-5SjT2LcMG",
        "outputId": "4aaee4ee-bd19-4437-d868-18121b1e8356"
      },
      "outputs": [
        {
          "name": "stdout",
          "output_type": "stream",
          "text": [
            "?,?,?,"
          ]
        }
      ],
      "source": [
        "def main():\n",
        "  print_row(3)\n",
        "\n",
        "def print_row(width):\n",
        "  for i in range(width):\n",
        "    print(\"?\", end=\",\")\n",
        "\n",
        "main()"
      ]
    },
    {
      "cell_type": "code",
      "execution_count": null,
      "metadata": {
        "colab": {
          "base_uri": "https://localhost:8080/"
        },
        "id": "MhCKGt0yL4fF",
        "outputId": "4c4fea4a-96c5-4312-8320-549b1934a205"
      },
      "outputs": [
        {
          "name": "stdout",
          "output_type": "stream",
          "text": [
            "###\n",
            "###\n",
            "###\n"
          ]
        }
      ],
      "source": [
        "def main():\n",
        "  print_square(3)\n",
        "\n",
        "def print_square(size):\n",
        "  for i in range(size):\n",
        "\n",
        "    for j in range(size):\n",
        "      print(\"#\", end=\"\")\n",
        "\n",
        "    print()\n",
        "\n",
        "\n",
        "main()"
      ]
    },
    {
      "cell_type": "code",
      "execution_count": null,
      "metadata": {
        "id": "MtgEiAJPXi9Y"
      },
      "outputs": [],
      "source": [
        "def main():\n",
        "  camelCase = input(\"camelCase: \").split()\n",
        "  snake_case(camelCase)\n",
        "\n",
        "def snake_case(camelCase):\n",
        "  for i in camelCase:\n",
        "    print()\n",
        "\n"
      ]
    },
    {
      "cell_type": "code",
      "execution_count": null,
      "metadata": {
        "colab": {
          "base_uri": "https://localhost:8080/"
        },
        "id": "LAFCrz4QfYkI",
        "outputId": "b53b6faf-d710-49ac-975f-7decf19e78d3"
      },
      "outputs": [
        {
          "name": "stdout",
          "output_type": "stream",
          "text": [
            "yes_no_"
          ]
        }
      ],
      "source": [
        "n = [\"yes\", \"no\"]\n",
        "\n",
        "for i in range(len(n)):\n",
        "  print(n[i], end=\"_\")"
      ]
    },
    {
      "cell_type": "code",
      "execution_count": null,
      "metadata": {
        "colab": {
          "base_uri": "https://localhost:8080/"
        },
        "id": "K6a30t2WfrOY",
        "outputId": "7599f296-e2ab-4580-a112-0921dfba3ba1"
      },
      "outputs": [
        {
          "data": {
            "text/plain": [
              "['firstName']"
            ]
          },
          "execution_count": 43,
          "metadata": {},
          "output_type": "execute_result"
        }
      ],
      "source": [
        "\"firstName\".split()"
      ]
    },
    {
      "cell_type": "code",
      "execution_count": null,
      "metadata": {
        "colab": {
          "base_uri": "https://localhost:8080/"
        },
        "id": "xP1uuF3xh7kp",
        "outputId": "e3e0acc8-d6fd-4ec3-f28e-b2eb73599b12"
      },
      "outputs": [
        {
          "name": "stdout",
          "output_type": "stream",
          "text": [
            "camelCase: firstName\n",
            "firstname"
          ]
        }
      ],
      "source": [
        "name = input(\"camelCase: \").lower()\n",
        "\n",
        "while n in name\n",
        "\n",
        "for n in range(len(name)):\n",
        "  print(name[n], end=\"\")"
      ]
    },
    {
      "cell_type": "code",
      "execution_count": null,
      "metadata": {
        "colab": {
          "base_uri": "https://localhost:8080/"
        },
        "id": "7jAg0W-K9YHz",
        "outputId": "16f406a2-ab7d-40f3-d3ac-2a50a58a53e9"
      },
      "outputs": [
        {
          "name": "stdout",
          "output_type": "stream",
          "text": [
            "camelCase: preferredFirstName\n",
            "preferred_first_name\n"
          ]
        }
      ],
      "source": [
        "def main():\n",
        "  camelCaseInput = input(\"camelCase: \")\n",
        "  snake_case_output = camel_to_snake(camelCaseInput)\n",
        "  print(snake_case_output)\n",
        "\n",
        "def camel_to_snake(camelcase_str):\n",
        "  snake_case_str = ''\n",
        "  for letter in camelcase_str:\n",
        "    if letter.isupper():\n",
        "      snake_case_str += '_' + letter.lower()\n",
        "    else:\n",
        "      snake_case_str += letter\n",
        "  return snake_case_str\n",
        "\n",
        "if __name__ == \"__main__\":\n",
        "  main()"
      ]
    },
    {
      "cell_type": "code",
      "execution_count": null,
      "metadata": {
        "colab": {
          "base_uri": "https://localhost:8080/"
        },
        "id": "1Ykqy0Y0DJho",
        "outputId": "9f4e5977-8957-4a35-f197-5bad430e6c05"
      },
      "outputs": [
        {
          "name": "stdout",
          "output_type": "stream",
          "text": [
            "Enter the variable name in camel case: lastName\n",
            "Snake case output: last_name\n"
          ]
        }
      ],
      "source": [
        "def camel_to_snake(camel_case_str):\n",
        "    snake_case_str = ''\n",
        "    for char in camel_case_str:\n",
        "        if char.isupper():\n",
        "            snake_case_str += '_' + char.lower()\n",
        "        else:\n",
        "            snake_case_str += char\n",
        "    return snake_case_str\n",
        "\n",
        "def main():\n",
        "    camel_case_input = input(\"Enter the variable name in camel case: \")\n",
        "    snake_case_output = camel_to_snake(camel_case_input)\n",
        "    print(\"Snake case output:\", snake_case_output)\n",
        "\n",
        "if __name__ == \"__main__\":\n",
        "    main()"
      ]
    },
    {
      "cell_type": "code",
      "execution_count": null,
      "metadata": {
        "colab": {
          "base_uri": "https://localhost:8080/",
          "height": 346
        },
        "id": "4KlbtxU5G8Un",
        "outputId": "04b31d63-b02e-4ea1-80a6-eda21df8a51c"
      },
      "outputs": [
        {
          "ename": "KeyboardInterrupt",
          "evalue": "ignored",
          "output_type": "error",
          "traceback": [
            "\u001b[0;31m---------------------------------------------------------------------------\u001b[0m",
            "\u001b[0;31mKeyboardInterrupt\u001b[0m                         Traceback (most recent call last)",
            "\u001b[0;32m<ipython-input-3-6a2b18d56555>\u001b[0m in \u001b[0;36m<cell line: 15>\u001b[0;34m()\u001b[0m\n\u001b[1;32m     14\u001b[0m \u001b[0;34m\u001b[0m\u001b[0m\n\u001b[1;32m     15\u001b[0m \u001b[0;32mif\u001b[0m \u001b[0m__name__\u001b[0m \u001b[0;34m==\u001b[0m \u001b[0;34m\"__main__\"\u001b[0m\u001b[0;34m:\u001b[0m\u001b[0;34m\u001b[0m\u001b[0;34m\u001b[0m\u001b[0m\n\u001b[0;32m---> 16\u001b[0;31m   \u001b[0mmain\u001b[0m\u001b[0;34m(\u001b[0m\u001b[0;34m)\u001b[0m\u001b[0;34m\u001b[0m\u001b[0;34m\u001b[0m\u001b[0m\n\u001b[0m",
            "\u001b[0;32m<ipython-input-3-6a2b18d56555>\u001b[0m in \u001b[0;36mmain\u001b[0;34m()\u001b[0m\n\u001b[1;32m      1\u001b[0m \u001b[0;32mdef\u001b[0m \u001b[0mmain\u001b[0m\u001b[0;34m(\u001b[0m\u001b[0;34m)\u001b[0m\u001b[0;34m:\u001b[0m\u001b[0;34m\u001b[0m\u001b[0;34m\u001b[0m\u001b[0m\n\u001b[0;32m----> 2\u001b[0;31m   \u001b[0mcamel_case_input\u001b[0m \u001b[0;34m=\u001b[0m \u001b[0minput\u001b[0m\u001b[0;34m(\u001b[0m\u001b[0;34m\"Camelcase: \"\u001b[0m\u001b[0;34m)\u001b[0m\u001b[0;34m\u001b[0m\u001b[0;34m\u001b[0m\u001b[0m\n\u001b[0m\u001b[1;32m      3\u001b[0m   \u001b[0msnake_case_output\u001b[0m \u001b[0;34m=\u001b[0m \u001b[0mcamel_to_snake\u001b[0m\u001b[0;34m(\u001b[0m\u001b[0mcamel_case_input\u001b[0m\u001b[0;34m)\u001b[0m \u001b[0;31m# call camel_to_snake function\u001b[0m\u001b[0;34m\u001b[0m\u001b[0;34m\u001b[0m\u001b[0m\n\u001b[1;32m      4\u001b[0m   \u001b[0mprint\u001b[0m\u001b[0;34m(\u001b[0m\u001b[0msnake_case_output\u001b[0m\u001b[0;34m)\u001b[0m\u001b[0;34m\u001b[0m\u001b[0;34m\u001b[0m\u001b[0m\n\u001b[1;32m      5\u001b[0m \u001b[0;34m\u001b[0m\u001b[0m\n",
            "\u001b[0;32m/usr/local/lib/python3.10/dist-packages/ipykernel/kernelbase.py\u001b[0m in \u001b[0;36mraw_input\u001b[0;34m(self, prompt)\u001b[0m\n\u001b[1;32m    849\u001b[0m                 \u001b[0;34m\"raw_input was called, but this frontend does not support input requests.\"\u001b[0m\u001b[0;34m\u001b[0m\u001b[0;34m\u001b[0m\u001b[0m\n\u001b[1;32m    850\u001b[0m             )\n\u001b[0;32m--> 851\u001b[0;31m         return self._input_request(str(prompt),\n\u001b[0m\u001b[1;32m    852\u001b[0m             \u001b[0mself\u001b[0m\u001b[0;34m.\u001b[0m\u001b[0m_parent_ident\u001b[0m\u001b[0;34m,\u001b[0m\u001b[0;34m\u001b[0m\u001b[0;34m\u001b[0m\u001b[0m\n\u001b[1;32m    853\u001b[0m             \u001b[0mself\u001b[0m\u001b[0;34m.\u001b[0m\u001b[0m_parent_header\u001b[0m\u001b[0;34m,\u001b[0m\u001b[0;34m\u001b[0m\u001b[0;34m\u001b[0m\u001b[0m\n",
            "\u001b[0;32m/usr/local/lib/python3.10/dist-packages/ipykernel/kernelbase.py\u001b[0m in \u001b[0;36m_input_request\u001b[0;34m(self, prompt, ident, parent, password)\u001b[0m\n\u001b[1;32m    893\u001b[0m             \u001b[0;32mexcept\u001b[0m \u001b[0mKeyboardInterrupt\u001b[0m\u001b[0;34m:\u001b[0m\u001b[0;34m\u001b[0m\u001b[0;34m\u001b[0m\u001b[0m\n\u001b[1;32m    894\u001b[0m                 \u001b[0;31m# re-raise KeyboardInterrupt, to truncate traceback\u001b[0m\u001b[0;34m\u001b[0m\u001b[0;34m\u001b[0m\u001b[0m\n\u001b[0;32m--> 895\u001b[0;31m                 \u001b[0;32mraise\u001b[0m \u001b[0mKeyboardInterrupt\u001b[0m\u001b[0;34m(\u001b[0m\u001b[0;34m\"Interrupted by user\"\u001b[0m\u001b[0;34m)\u001b[0m \u001b[0;32mfrom\u001b[0m \u001b[0;32mNone\u001b[0m\u001b[0;34m\u001b[0m\u001b[0;34m\u001b[0m\u001b[0m\n\u001b[0m\u001b[1;32m    896\u001b[0m             \u001b[0;32mexcept\u001b[0m \u001b[0mException\u001b[0m \u001b[0;32mas\u001b[0m \u001b[0me\u001b[0m\u001b[0;34m:\u001b[0m\u001b[0;34m\u001b[0m\u001b[0;34m\u001b[0m\u001b[0m\n\u001b[1;32m    897\u001b[0m                 \u001b[0mself\u001b[0m\u001b[0;34m.\u001b[0m\u001b[0mlog\u001b[0m\u001b[0;34m.\u001b[0m\u001b[0mwarning\u001b[0m\u001b[0;34m(\u001b[0m\u001b[0;34m\"Invalid Message:\"\u001b[0m\u001b[0;34m,\u001b[0m \u001b[0mexc_info\u001b[0m\u001b[0;34m=\u001b[0m\u001b[0;32mTrue\u001b[0m\u001b[0;34m)\u001b[0m\u001b[0;34m\u001b[0m\u001b[0;34m\u001b[0m\u001b[0m\n",
            "\u001b[0;31mKeyboardInterrupt\u001b[0m: Interrupted by user"
          ]
        }
      ],
      "source": [
        "def main():\n",
        "  camel_case_input = input(\"Camelcase: \")\n",
        "  snake_case_output = camel_to_snake(camel_case_input) # call camel_to_snake function\n",
        "  print(snake_case_output)\n",
        "\n",
        "def camel_to_snake(camel_case_str):\n",
        "  snake_case_str = \"\"\n",
        "  for letter in camel_case_str:\n",
        "    if letter.isupper():\n",
        "      snake_case_str += \"_\" + letter.lower()\n",
        "    else:\n",
        "      snake_case_str += letter\n",
        "  return snake_case_str\n",
        "\n",
        "if __name__ == \"__main__\":\n",
        "  main()"
      ]
    },
    {
      "cell_type": "code",
      "execution_count": null,
      "metadata": {
        "colab": {
          "base_uri": "https://localhost:8080/",
          "height": 131
        },
        "id": "pw9vqA7OMmiM",
        "outputId": "4ecec703-5932-4492-b2d8-7d6a0d11466e"
      },
      "outputs": [
        {
          "ename": "SyntaxError",
          "evalue": "ignored",
          "output_type": "error",
          "traceback": [
            "\u001b[0;36m  File \u001b[0;32m\"<ipython-input-6-4b37ef281455>\"\u001b[0;36m, line \u001b[0;32m1\u001b[0m\n\u001b[0;31m    |\u001b[0m\n\u001b[0m    ^\u001b[0m\n\u001b[0;31mSyntaxError\u001b[0m\u001b[0;31m:\u001b[0m invalid syntax\n"
          ]
        }
      ],
      "source": [
        "|"
      ]
    },
    {
      "cell_type": "code",
      "execution_count": null,
      "metadata": {
        "colab": {
          "base_uri": "https://localhost:8080/"
        },
        "id": "D4_4_yITNI3F",
        "outputId": "91989d26-5e38-429f-a8b8-c214c0ea42b4"
      },
      "outputs": [
        {
          "output_type": "stream",
          "name": "stdout",
          "text": [
            "Amount Due: 50\n",
            "Insert coin: 25\n",
            "Amount Due: 25\n",
            "Insert coin: 25\n",
            "Change Owed: 0\n"
          ]
        }
      ],
      "source": [
        "def main():\n",
        "  insert_a_coin()\n",
        "\n",
        "\n",
        "def insert_a_coin():\n",
        "  amount_due = 50\n",
        "  total_coin_inserted = 0\n",
        "\n",
        "  while total_coin_inserted < amount_due:\n",
        "    amount_remaining = amount_due - total_coin_inserted\n",
        "    print(f\"Amount Due: {amount_remaining}\")\n",
        "    insert_coin = int(input(\"Insert coin: \"))\n",
        "\n",
        "    if insert_coin in [25, 10, 5]:\n",
        "      total_coin_inserted += insert_coin\n",
        "    else:\n",
        "      continue\n",
        "\n",
        "  if total_coin_inserted >= amount_due:\n",
        "    change = total_coin_inserted - amount_due\n",
        "    print(f\"Change Owed: {change}\")\n",
        "\n",
        "\n",
        "if __name__ == \"__main__\":\n",
        "  main()"
      ]
    },
    {
      "cell_type": "code",
      "source": [
        "def main():\n",
        "  amount_due()\n",
        "\n",
        "def get_valid_coin():\n",
        "  while True:\n",
        "    coin = int(input(\"Insert coin (25, 10 or 5 cents): \"))\n",
        "    if coin in [25, 10, 5]:\n",
        "      return coin\n",
        "    else:\n",
        "      print(\"Invalid coin. Please insert a valid coin.\")\n",
        "\n",
        "\n",
        "def amount_due():\n",
        "  amount_due = 50\n",
        "  total_coin_inserted = 0\n",
        "\n",
        "  while total_coin_inserted < amount_due:\n",
        "    amount_remaining = amount_due - total_coin_inserted\n",
        "    print(f\"Amount due: {amount_remaining}\")\n",
        "    coin = get_valid_coin()\n",
        "    total_coin_inserted += coin\n",
        "\n",
        "  if total_coin_inserted >= amount_due:\n",
        "    change = total_coin_inserted - amount_due\n",
        "    print(f\"Change Owed: {change}\")\n",
        "\n",
        "if __name__ == \"__main__\":\n",
        "  main()\n",
        "\n"
      ],
      "metadata": {
        "id": "IjqbS3_cdm94"
      },
      "execution_count": null,
      "outputs": []
    },
    {
      "cell_type": "code",
      "source": [],
      "metadata": {
        "id": "H2oLBsR_d5J3"
      },
      "execution_count": null,
      "outputs": []
    },
    {
      "cell_type": "code",
      "source": [
        "string = \"Hello World\"\n",
        "substring = \"world\"\n",
        "if substring in string:\n",
        "  print(\"substring found!\")\n",
        "else:\n",
        "  print(\"substring not found!\")"
      ],
      "metadata": {
        "colab": {
          "base_uri": "https://localhost:8080/"
        },
        "id": "EMo-JdDzULV0",
        "outputId": "f3a73e19-1217-4999-ad0d-131bdf7c10fb"
      },
      "execution_count": null,
      "outputs": [
        {
          "output_type": "stream",
          "name": "stdout",
          "text": [
            "substring not found!\n"
          ]
        }
      ]
    },
    {
      "cell_type": "code",
      "source": [
        "50reversed_string = string[::-1]\n",
        "print(reversed_string)"
      ],
      "metadata": {
        "colab": {
          "base_uri": "https://localhost:8080/"
        },
        "id": "vNxom3fSWGkw",
        "outputId": "0f6b8cad-61cb-4edb-9880-89de4db54f0d"
      },
      "execution_count": null,
      "outputs": [
        {
          "output_type": "stream",
          "name": "stdout",
          "text": [
            "dlroW olleH\n"
          ]
        }
      ]
    },
    {
      "cell_type": "code",
      "source": [],
      "metadata": {
        "id": "f-6ZYvrnHLdI"
      },
      "execution_count": null,
      "outputs": []
    },
    {
      "cell_type": "code",
      "source": [
        "def main():\n",
        "  amount_due()\n",
        "\n",
        "def get_valid_coin():\n",
        "  while True:\n",
        "\n",
        "\n",
        "    coin = int(input(\"Insert coin (25, 10 or 5 cents): \"))\n",
        "    if coin in [25, 10, 5]:\n",
        "      return coin\n",
        "    else:\n",
        "      print(f\"Amount due: {amount_remaining}\")\n",
        "\n",
        "\n",
        "def amount_due():\n",
        "  amount_due = 50\n",
        "  total_coin_inserted = 0\n",
        "\n",
        "\n",
        "  while total_coin_inserted < amount_due:\n",
        "    amount_remaining = amount_due - total_coin_inserted\n",
        "    print(f\"Amount due: {amount_remaining}\")\n",
        "    coin = get_valid_coin()\n",
        "    total_coin_inserted += coin\n",
        "\n",
        "  if total_coin_inserted >= amount_due:\n",
        "    change = total_coin_inserted - amount_due\n",
        "    print(f\"Change Owed: {change}\")\n",
        "\n",
        "if __name__ == \"__main__\":\n",
        "  main()\n",
        "\n"
      ],
      "metadata": {
        "colab": {
          "base_uri": "https://localhost:8080/",
          "height": 443
        },
        "outputId": "7e98bb2c-7e12-426b-b44d-dda799790c0a",
        "id": "B88mswp0HLyj"
      },
      "execution_count": null,
      "outputs": [
        {
          "name": "stdout",
          "output_type": "stream",
          "text": [
            "Amount due: 50\n",
            "Insert coin (25, 10 or 5 cents): 25\n",
            "Amount due: 25\n",
            "Insert coin (25, 10 or 5 cents): 4\n"
          ]
        },
        {
          "output_type": "error",
          "ename": "NameError",
          "evalue": "ignored",
          "traceback": [
            "\u001b[0;31m---------------------------------------------------------------------------\u001b[0m",
            "\u001b[0;31mNameError\u001b[0m                                 Traceback (most recent call last)",
            "\u001b[0;32m<ipython-input-12-b8203e9d54e0>\u001b[0m in \u001b[0;36m<cell line: 30>\u001b[0;34m()\u001b[0m\n\u001b[1;32m     29\u001b[0m \u001b[0;34m\u001b[0m\u001b[0m\n\u001b[1;32m     30\u001b[0m \u001b[0;32mif\u001b[0m \u001b[0m__name__\u001b[0m \u001b[0;34m==\u001b[0m \u001b[0;34m\"__main__\"\u001b[0m\u001b[0;34m:\u001b[0m\u001b[0;34m\u001b[0m\u001b[0;34m\u001b[0m\u001b[0m\n\u001b[0;32m---> 31\u001b[0;31m   \u001b[0mmain\u001b[0m\u001b[0;34m(\u001b[0m\u001b[0;34m)\u001b[0m\u001b[0;34m\u001b[0m\u001b[0;34m\u001b[0m\u001b[0m\n\u001b[0m\u001b[1;32m     32\u001b[0m \u001b[0;34m\u001b[0m\u001b[0m\n",
            "\u001b[0;32m<ipython-input-12-b8203e9d54e0>\u001b[0m in \u001b[0;36mmain\u001b[0;34m()\u001b[0m\n\u001b[1;32m      1\u001b[0m \u001b[0;32mdef\u001b[0m \u001b[0mmain\u001b[0m\u001b[0;34m(\u001b[0m\u001b[0;34m)\u001b[0m\u001b[0;34m:\u001b[0m\u001b[0;34m\u001b[0m\u001b[0;34m\u001b[0m\u001b[0m\n\u001b[0;32m----> 2\u001b[0;31m   \u001b[0mamount_due\u001b[0m\u001b[0;34m(\u001b[0m\u001b[0;34m)\u001b[0m\u001b[0;34m\u001b[0m\u001b[0;34m\u001b[0m\u001b[0m\n\u001b[0m\u001b[1;32m      3\u001b[0m \u001b[0;34m\u001b[0m\u001b[0m\n\u001b[1;32m      4\u001b[0m \u001b[0;32mdef\u001b[0m \u001b[0mget_valid_coin\u001b[0m\u001b[0;34m(\u001b[0m\u001b[0;34m)\u001b[0m\u001b[0;34m:\u001b[0m\u001b[0;34m\u001b[0m\u001b[0;34m\u001b[0m\u001b[0m\n\u001b[1;32m      5\u001b[0m   \u001b[0;32mwhile\u001b[0m \u001b[0;32mTrue\u001b[0m\u001b[0;34m:\u001b[0m\u001b[0;34m\u001b[0m\u001b[0;34m\u001b[0m\u001b[0m\n",
            "\u001b[0;32m<ipython-input-12-b8203e9d54e0>\u001b[0m in \u001b[0;36mamount_due\u001b[0;34m()\u001b[0m\n\u001b[1;32m     21\u001b[0m     \u001b[0mamount_remaining\u001b[0m \u001b[0;34m=\u001b[0m \u001b[0mamount_due\u001b[0m \u001b[0;34m-\u001b[0m \u001b[0mtotal_coin_inserted\u001b[0m\u001b[0;34m\u001b[0m\u001b[0;34m\u001b[0m\u001b[0m\n\u001b[1;32m     22\u001b[0m     \u001b[0mprint\u001b[0m\u001b[0;34m(\u001b[0m\u001b[0;34mf\"Amount due: {amount_remaining}\"\u001b[0m\u001b[0;34m)\u001b[0m\u001b[0;34m\u001b[0m\u001b[0;34m\u001b[0m\u001b[0m\n\u001b[0;32m---> 23\u001b[0;31m     \u001b[0mcoin\u001b[0m \u001b[0;34m=\u001b[0m \u001b[0mget_valid_coin\u001b[0m\u001b[0;34m(\u001b[0m\u001b[0;34m)\u001b[0m\u001b[0;34m\u001b[0m\u001b[0;34m\u001b[0m\u001b[0m\n\u001b[0m\u001b[1;32m     24\u001b[0m     \u001b[0mtotal_coin_inserted\u001b[0m \u001b[0;34m+=\u001b[0m \u001b[0mcoin\u001b[0m\u001b[0;34m\u001b[0m\u001b[0;34m\u001b[0m\u001b[0m\n\u001b[1;32m     25\u001b[0m \u001b[0;34m\u001b[0m\u001b[0m\n",
            "\u001b[0;32m<ipython-input-12-b8203e9d54e0>\u001b[0m in \u001b[0;36mget_valid_coin\u001b[0;34m()\u001b[0m\n\u001b[1;32m     10\u001b[0m       \u001b[0;32mreturn\u001b[0m \u001b[0mcoin\u001b[0m\u001b[0;34m\u001b[0m\u001b[0;34m\u001b[0m\u001b[0m\n\u001b[1;32m     11\u001b[0m     \u001b[0;32melse\u001b[0m\u001b[0;34m:\u001b[0m\u001b[0;34m\u001b[0m\u001b[0;34m\u001b[0m\u001b[0m\n\u001b[0;32m---> 12\u001b[0;31m       \u001b[0mprint\u001b[0m\u001b[0;34m(\u001b[0m\u001b[0;34mf\"Amount due: {amount_remaining}\"\u001b[0m\u001b[0;34m)\u001b[0m\u001b[0;34m\u001b[0m\u001b[0;34m\u001b[0m\u001b[0m\n\u001b[0m\u001b[1;32m     13\u001b[0m \u001b[0;34m\u001b[0m\u001b[0m\n\u001b[1;32m     14\u001b[0m \u001b[0;34m\u001b[0m\u001b[0m\n",
            "\u001b[0;31mNameError\u001b[0m: name 'amount_remaining' is not defined"
          ]
        }
      ]
    },
    {
      "cell_type": "code",
      "source": [
        "def get_valid_coin():\n",
        "    while True:\n",
        "        coin = int(input(\"Insert a coin (25, 10, or 5 cents): \"))\n",
        "        if coin in [25, 10, 5]:\n",
        "            return coin\n",
        "        else:\n",
        "            print(\"Invalid coin. Please insert a valid coin.\")\n",
        "\n",
        "def main():\n",
        "    amount_due = 50\n",
        "    total_inserted = 0\n",
        "\n",
        "    while total_inserted < amount_due:\n",
        "        coin = get_valid_coin()\n",
        "        total_inserted += coin\n",
        "        amount_remaining = amount_due - total_inserted\n",
        "        print(f\"Amount due: {amount_remaining} cents\")\n",
        "\n",
        "    if total_inserted > amount_due:\n",
        "        change = total_inserted - amount_due\n",
        "        print(f\"You have inserted {total_inserted} cents.\")\n",
        "        print(f\"Change owed: {change} cents\")\n",
        "    else:\n",
        "        print(\"Amount paid in full. Enjoy your Coca-Cola!\")\n",
        "\n",
        "if __name__ == \"__main__\":\n",
        "    main()\n"
      ],
      "metadata": {
        "colab": {
          "base_uri": "https://localhost:8080/"
        },
        "id": "xkzE9E8NIMuT",
        "outputId": "ce2ac178-5d20-48d3-eb5e-d1bbc2f0a05b"
      },
      "execution_count": null,
      "outputs": [
        {
          "output_type": "stream",
          "name": "stdout",
          "text": [
            "Insert a coin (25, 10, or 5 cents): 45\n",
            "Invalid coin. Please insert a valid coin.\n",
            "Insert a coin (25, 10, or 5 cents): 25\n",
            "Amount due: 25 cents\n",
            "Insert a coin (25, 10, or 5 cents): 10\n",
            "Amount due: 15 cents\n",
            "Insert a coin (25, 10, or 5 cents): 25\n",
            "Amount due: -10 cents\n",
            "You have inserted 60 cents.\n",
            "Change owed: 10 cents\n"
          ]
        }
      ]
    },
    {
      "cell_type": "code",
      "execution_count": null,
      "metadata": {
        "id": "dipBFQ-rKIit"
      },
      "outputs": [],
      "source": [
        "def main():\n",
        "  coin_insert = insert_a_coin()\n",
        "\n",
        "\n",
        "def insert_a_coin():\n",
        "  amount_due = 50\n",
        "  total_coin_inserted = 0\n",
        "\n",
        "  while total_coin_inserted < amount_due:\n",
        "\n",
        "    def get_valid_coin():\n",
        "      while True:\n",
        "        coin = int(input(\"Insert coin: \"))\n",
        "        if coin in [25, 10, 5]:\n",
        "          return coin\n",
        "        else:\n",
        "          continue\n",
        "\n",
        "    amount_remaining = amount_due - total_coin_inserted\n",
        "    print(f\"Amount Due: {amount_remaining}\")\n",
        "    insert_coin = get_valid_coin()\n",
        "\n",
        "\n",
        "  if total_coin_inserted >= amount_due:\n",
        "    change = total_coin_inserted - amount_due\n",
        "    print(f\"Change Owed: {change}\")\n",
        "\n",
        "\n",
        "if __name__ == \"__main__\":\n",
        "  main()"
      ]
    },
    {
      "cell_type": "code",
      "source": [
        "def main():\n",
        "  inputs = input(\"Input: \")\n",
        "  shrink_input = remove_vowels(inputs)\n",
        "  print(shrink_input)\n",
        "\n",
        "def remove_vowels(string):\n",
        "  output = ''\n",
        "  for letter in string:\n",
        "    if letter not in 'AEIOUaeiou':\n",
        "      output += letter\n",
        "  return output\n",
        "\n",
        "if __name__ == \"__main__\":\n",
        "  main()\n"
      ],
      "metadata": {
        "colab": {
          "base_uri": "https://localhost:8080/"
        },
        "id": "LafU321gAVMx",
        "outputId": "459f3f6b-63f6-4a1c-d916-8d2d655985a4"
      },
      "execution_count": null,
      "outputs": [
        {
          "output_type": "stream",
          "name": "stdout",
          "text": [
            "Input: PYTHON\n",
            "PYTHN\n"
          ]
        }
      ]
    },
    {
      "cell_type": "code",
      "source": [
        "def main():\n",
        "    plate = input(\"Plate: \")\n",
        "    if is_valid(plate):\n",
        "        print(\"Valid\")\n",
        "    else:\n",
        "        print(\"Invalid\")\n",
        "\n",
        "\n",
        "def is_valid(s):\n",
        "    ...\n",
        "\n",
        "\n",
        "main()"
      ],
      "metadata": {
        "id": "Cv_wMdBaQzTy"
      },
      "execution_count": null,
      "outputs": []
    },
    {
      "cell_type": "code",
      "source": [
        "b = \"HE0000\"\n",
        "\n",
        "len(b) in (6, 2)"
      ],
      "metadata": {
        "colab": {
          "base_uri": "https://localhost:8080/"
        },
        "id": "NgYSNWsDRPKo",
        "outputId": "7e8826b6-8495-443c-8abb-072411f9cba0"
      },
      "execution_count": null,
      "outputs": [
        {
          "output_type": "execute_result",
          "data": {
            "text/plain": [
              "True"
            ]
          },
          "metadata": {},
          "execution_count": 40
        }
      ]
    },
    {
      "cell_type": "code",
      "source": [
        "string = input(\"Plate: \")\n",
        "\n",
        "if 2 <= len(string) <= 6:\n",
        "    T, E, H, I, M, T = string\n",
        "    print(\"T:\", T)\n",
        "    print(\"E:\", E)\n",
        "    print(\"H:\", H)\n",
        "    print(\"I:\", I)\n",
        "    print(\"M:\", M)\n",
        "    print(\"T (again):\", T)\n",
        "else:\n",
        "    print(\"Input string must have exactly 6 characters.\")"
      ],
      "metadata": {
        "colab": {
          "base_uri": "https://localhost:8080/",
          "height": 263
        },
        "id": "yueWqrHq8UZm",
        "outputId": "25f98e11-f6ae-46a8-c78e-f0f6f9c43d36"
      },
      "execution_count": null,
      "outputs": [
        {
          "name": "stdout",
          "output_type": "stream",
          "text": [
            "Plate: AB\n"
          ]
        },
        {
          "output_type": "error",
          "ename": "ValueError",
          "evalue": "ignored",
          "traceback": [
            "\u001b[0;31m---------------------------------------------------------------------------\u001b[0m",
            "\u001b[0;31mValueError\u001b[0m                                Traceback (most recent call last)",
            "\u001b[0;32m<ipython-input-12-75677ba3ba8a>\u001b[0m in \u001b[0;36m<cell line: 3>\u001b[0;34m()\u001b[0m\n\u001b[1;32m      2\u001b[0m \u001b[0;34m\u001b[0m\u001b[0m\n\u001b[1;32m      3\u001b[0m \u001b[0;32mif\u001b[0m \u001b[0;36m2\u001b[0m \u001b[0;34m<=\u001b[0m \u001b[0mlen\u001b[0m\u001b[0;34m(\u001b[0m\u001b[0mstring\u001b[0m\u001b[0;34m)\u001b[0m \u001b[0;34m<=\u001b[0m \u001b[0;36m6\u001b[0m\u001b[0;34m:\u001b[0m\u001b[0;34m\u001b[0m\u001b[0;34m\u001b[0m\u001b[0m\n\u001b[0;32m----> 4\u001b[0;31m     \u001b[0mT\u001b[0m\u001b[0;34m,\u001b[0m \u001b[0mE\u001b[0m\u001b[0;34m,\u001b[0m \u001b[0mH\u001b[0m\u001b[0;34m,\u001b[0m \u001b[0mI\u001b[0m\u001b[0;34m,\u001b[0m \u001b[0mM\u001b[0m\u001b[0;34m,\u001b[0m \u001b[0mT\u001b[0m \u001b[0;34m=\u001b[0m \u001b[0mstring\u001b[0m\u001b[0;34m\u001b[0m\u001b[0;34m\u001b[0m\u001b[0m\n\u001b[0m\u001b[1;32m      5\u001b[0m     \u001b[0mprint\u001b[0m\u001b[0;34m(\u001b[0m\u001b[0;34m\"T:\"\u001b[0m\u001b[0;34m,\u001b[0m \u001b[0mT\u001b[0m\u001b[0;34m)\u001b[0m\u001b[0;34m\u001b[0m\u001b[0;34m\u001b[0m\u001b[0m\n\u001b[1;32m      6\u001b[0m     \u001b[0mprint\u001b[0m\u001b[0;34m(\u001b[0m\u001b[0;34m\"E:\"\u001b[0m\u001b[0;34m,\u001b[0m \u001b[0mE\u001b[0m\u001b[0;34m)\u001b[0m\u001b[0;34m\u001b[0m\u001b[0;34m\u001b[0m\u001b[0m\n",
            "\u001b[0;31mValueError\u001b[0m: not enough values to unpack (expected 6, got 2)"
          ]
        }
      ]
    },
    {
      "cell_type": "code",
      "source": [
        "string = \"ABCD34\"\n",
        "#input(\"Plate: \")\n",
        "print(get_valid_length(string))\n",
        "\n",
        "def get_valid_length(string):\n",
        "  if 2 <= len(string) <= 6 and string[:2].isalpha():\n",
        "    return True\n",
        "  else:\n",
        "    return False\n",
        "\n"
      ],
      "metadata": {
        "colab": {
          "base_uri": "https://localhost:8080/"
        },
        "id": "mctEdhy38tHT",
        "outputId": "8a01eb72-4fcd-45fc-9416-e0f67c9355c0"
      },
      "execution_count": null,
      "outputs": [
        {
          "output_type": "stream",
          "name": "stdout",
          "text": [
            "True\n"
          ]
        }
      ]
    },
    {
      "cell_type": "code",
      "source": [
        "def not_valid(string):\n",
        "  if not string[:2].isalpha():\n",
        "    return False\n",
        "  if not string[-1].isdigit():\n",
        "    return False\n",
        "  return True\n",
        "print(not_valid(string))"
      ],
      "metadata": {
        "colab": {
          "base_uri": "https://localhost:8080/"
        },
        "id": "YulBHNcusCVd",
        "outputId": "f87c667b-022a-4b0c-e67e-16599d9956ad"
      },
      "execution_count": null,
      "outputs": [
        {
          "output_type": "stream",
          "name": "stdout",
          "text": [
            "False\n"
          ]
        }
      ]
    },
    {
      "cell_type": "code",
      "source": [
        "string[-1]"
      ],
      "metadata": {
        "colab": {
          "base_uri": "https://localhost:8080/",
          "height": 35
        },
        "id": "KDhOWih9z95J",
        "outputId": "f8ce2aa5-cd75-4eb8-a6ab-70c70dc1b300"
      },
      "execution_count": null,
      "outputs": [
        {
          "output_type": "execute_result",
          "data": {
            "text/plain": [
              "'4'"
            ],
            "application/vnd.google.colaboratory.intrinsic+json": {
              "type": "string"
            }
          },
          "metadata": {},
          "execution_count": 143
        }
      ]
    },
    {
      "cell_type": "code",
      "source": [
        "not True"
      ],
      "metadata": {
        "colab": {
          "base_uri": "https://localhost:8080/"
        },
        "id": "-RzIPB7t0fsk",
        "outputId": "c14da379-377e-40f4-e60b-84d51794676c"
      },
      "execution_count": null,
      "outputs": [
        {
          "output_type": "execute_result",
          "data": {
            "text/plain": [
              "False"
            ]
          },
          "metadata": {},
          "execution_count": 127
        }
      ]
    },
    {
      "cell_type": "code",
      "source": [
        "if 2 < len(string) <= 6:\n",
        "  string[:-2]\n"
      ],
      "metadata": {
        "id": "esu3G0lBlbGu"
      },
      "execution_count": null,
      "outputs": []
    },
    {
      "cell_type": "code",
      "source": [
        "name = \"ABC12345\"\n",
        "#name.center(9, \"*\")\n",
        "#name.isalnum()\n",
        "new = []\n",
        "for char in name:\n",
        "  new += char\n",
        "\n",
        "(new[0], new[1]).isalpha()\n",
        "\n",
        "  #if char.isalpha():\n",
        "   #  print(True)\n",
        "  #else:\n",
        "   # print(False)"
      ],
      "metadata": {
        "colab": {
          "base_uri": "https://localhost:8080/",
          "height": 246
        },
        "id": "dXj3yN1FDgKr",
        "outputId": "4ff20914-3e9a-45b1-85d1-b4b5f2555d69"
      },
      "execution_count": null,
      "outputs": [
        {
          "output_type": "error",
          "ename": "AttributeError",
          "evalue": "ignored",
          "traceback": [
            "\u001b[0;31m---------------------------------------------------------------------------\u001b[0m",
            "\u001b[0;31mAttributeError\u001b[0m                            Traceback (most recent call last)",
            "\u001b[0;32m<ipython-input-69-1222c7b562a6>\u001b[0m in \u001b[0;36m<cell line: 8>\u001b[0;34m()\u001b[0m\n\u001b[1;32m      6\u001b[0m   \u001b[0mnew\u001b[0m \u001b[0;34m+=\u001b[0m \u001b[0mchar\u001b[0m\u001b[0;34m\u001b[0m\u001b[0;34m\u001b[0m\u001b[0m\n\u001b[1;32m      7\u001b[0m \u001b[0;34m\u001b[0m\u001b[0m\n\u001b[0;32m----> 8\u001b[0;31m \u001b[0;34m(\u001b[0m\u001b[0mnew\u001b[0m\u001b[0;34m[\u001b[0m\u001b[0;36m0\u001b[0m\u001b[0;34m]\u001b[0m\u001b[0;34m,\u001b[0m \u001b[0mnew\u001b[0m\u001b[0;34m[\u001b[0m\u001b[0;36m1\u001b[0m\u001b[0;34m]\u001b[0m\u001b[0;34m)\u001b[0m\u001b[0;34m.\u001b[0m\u001b[0misalpha\u001b[0m\u001b[0;34m(\u001b[0m\u001b[0;34m)\u001b[0m\u001b[0;34m\u001b[0m\u001b[0;34m\u001b[0m\u001b[0m\n\u001b[0m\u001b[1;32m      9\u001b[0m \u001b[0;34m\u001b[0m\u001b[0m\n\u001b[1;32m     10\u001b[0m   \u001b[0;31m#if char.isalpha():\u001b[0m\u001b[0;34m\u001b[0m\u001b[0;34m\u001b[0m\u001b[0m\n",
            "\u001b[0;31mAttributeError\u001b[0m: 'tuple' object has no attribute 'isalpha'"
          ]
        }
      ]
    },
    {
      "cell_type": "code",
      "source": [
        "def is_valid_plate(string):\n",
        "  if 2 <= len(string) <= 6:\n",
        "    return True\n",
        "\n",
        "  if string[:2].isalpha():\n",
        "    return True\n",
        "\n",
        "  if not string[2: -1].isdigit():\n",
        "    return True\n",
        "\n",
        "  if\n"
      ],
      "metadata": {
        "id": "JnWZkhhwugdC"
      },
      "execution_count": null,
      "outputs": []
    },
    {
      "cell_type": "code",
      "source": [
        "\n",
        "def is_valid_plate(plate):\n",
        "    if 2 <= len(plate) <= 6:\n",
        "        return False\n",
        "\n",
        "    if not plate[:2].isalpha():\n",
        "        return False\n",
        "\n",
        "    if not plate[-1].isdigit():\n",
        "        return False\n",
        "\n",
        "    if not plate[2:-1].isdigit() and not plate[2:].isalpha():\n",
        "        return False\n",
        "\n",
        "    if plate[2] == '0':\n",
        "        return False\n",
        "\n",
        "    return True\n",
        "\n",
        "plate_input = input(\"Enter a plate: \")\n",
        "\n",
        "if is_valid_plate(plate_input):\n",
        "    print(\"The plate is valid.\")\n",
        "else:\n",
        "    print(\"The plate is not valid.\")\n",
        "\n",
        "\n"
      ],
      "metadata": {
        "colab": {
          "base_uri": "https://localhost:8080/"
        },
        "id": "vbt5Ykjg_YP0",
        "outputId": "6542ff17-1598-4ae2-f1f4-38618d42481c"
      },
      "execution_count": null,
      "outputs": [
        {
          "output_type": "stream",
          "name": "stdout",
          "text": [
            "Enter a plate: AA\n",
            "The plate is not valid.\n"
          ]
        }
      ]
    },
    {
      "cell_type": "code",
      "source": [
        "def starts_with_letters(s): #VALID\n",
        "    return s[:2].isalpha()\n",
        "\n",
        "def has_valid_length(s): #VALID\n",
        "    return 2 <= len(s) <= 6\n",
        "\n",
        "def has_numbers_at_end(s):\n",
        "    if len(s) >= 4 and (s[-1].isdigit() or s[-2].isdigit() or s[-3].isdigit() or s[-4].isdigit()):\n",
        "        return False\n",
        "    if s[-1] == '0':\n",
        "        return False\n",
        "    if any(char.isdigit() for char in s[:-1]): # Checks if all characters in the string are numbers except the last character.\n",
        "        return False\n",
        "    return True\n",
        "\n",
        "def has_no_punctuation(s): #VALID\n",
        "    return s.isalnum()\n",
        "\n",
        "def is_valid(s):\n",
        "    return starts_with_letters(s) and has_valid_length(s) and has_numbers_at_end(s) and has_no_punctuation(s)\n",
        "\n",
        "def main():\n",
        "    vanity_plate = input(\"Enter a vanity plate: \")\n",
        "\n",
        "    if is_valid(vanity_plate):\n",
        "        print(\"Valid\")\n",
        "    else:\n",
        "        print(\"Invalid\")\n",
        "\n",
        "if __name__ == \"__main__\":\n",
        "    main()\n"
      ],
      "metadata": {
        "colab": {
          "base_uri": "https://localhost:8080/"
        },
        "id": "0TK5wdLbBlMq",
        "outputId": "ab6dd419-1808-44dd-feaf-9647a0980745"
      },
      "execution_count": null,
      "outputs": [
        {
          "output_type": "stream",
          "name": "stdout",
          "text": [
            "Enter a vanity plate: CS50\n",
            "Invalid\n"
          ]
        }
      ]
    },
    {
      "cell_type": "code",
      "source": [
        "s = \"AAA678\"\n",
        "\n",
        "def has_numbers_at_end(s):\n",
        "    if s[-1].isdigit() and s[-2].isdigit() and s[-3].isdigit() and s[-4].isdigit():\n",
        "        return False\n",
        "    if s[-1] == '0':\n",
        "        return False\n",
        "    return True\n",
        "\n",
        "has_numbers_at_end(s)\n"
      ],
      "metadata": {
        "colab": {
          "base_uri": "https://localhost:8080/"
        },
        "id": "Glv0iJ4-Miti",
        "outputId": "01832ca0-fb31-44e1-f561-c1361c5db87e"
      },
      "execution_count": null,
      "outputs": [
        {
          "output_type": "execute_result",
          "data": {
            "text/plain": [
              "True"
            ]
          },
          "metadata": {},
          "execution_count": 90
        }
      ]
    },
    {
      "cell_type": "code",
      "source": [
        "#'0' in s[-4: -2]\n",
        "\n",
        "#len()\n",
        "if char.isdigit() for char in s[:-1]: # Checks if all characters in the string are numbers except the last character.\n",
        "        print(False)"
      ],
      "metadata": {
        "colab": {
          "base_uri": "https://localhost:8080/",
          "height": 141
        },
        "id": "xl_rUabKin91",
        "outputId": "653eff55-2cc7-48e9-b3ce-72209e1f24ba"
      },
      "execution_count": null,
      "outputs": [
        {
          "output_type": "error",
          "ename": "SyntaxError",
          "evalue": "ignored",
          "traceback": [
            "\u001b[0;36m  File \u001b[0;32m\"<ipython-input-95-d1d86afa23cb>\"\u001b[0;36m, line \u001b[0;32m4\u001b[0m\n\u001b[0;31m    if char.isdigit() for char in s[:-1]: # Checks if all characters in the string are numbers except the last character.\u001b[0m\n\u001b[0m                      ^\u001b[0m\n\u001b[0;31mSyntaxError\u001b[0m\u001b[0;31m:\u001b[0m invalid syntax\n"
          ]
        }
      ]
    },
    {
      "cell_type": "code",
      "source": [
        "s = \"A0\"\n",
        "\n",
        "len(s) >= 4 and (s[-1].isdigit() or s[-2].isdigit() or s[-3].isdigit() or s[-4].isdigit())"
      ],
      "metadata": {
        "colab": {
          "base_uri": "https://localhost:8080/"
        },
        "id": "iKz6XcKWPQUN",
        "outputId": "4595841f-85fd-4373-bfe3-046c71f04a90"
      },
      "execution_count": null,
      "outputs": [
        {
          "output_type": "execute_result",
          "data": {
            "text/plain": [
              "False"
            ]
          },
          "metadata": {},
          "execution_count": 70
        }
      ]
    },
    {
      "cell_type": "code",
      "source": [
        "def main():\n",
        "  a = int(input(\"What is a? \"))\n",
        "  b = int(input(\"What is b? \"))\n",
        "  result = str(divide(a, b))\n",
        "  if not result.isdigit(): # digit: False; not digit: True\n",
        "    print(f\"result = {result}\")\n",
        "  else:\n",
        "    print(result)\n",
        "\n",
        "def divide(a, b):\n",
        "  try:\n",
        "    result = a/b\n",
        "    return result\n",
        "  except ZeroDivisionError:\n",
        "      return \"Cannot divide by Zero!\"\n",
        "\n",
        "main()"
      ],
      "metadata": {
        "colab": {
          "base_uri": "https://localhost:8080/"
        },
        "id": "sxgG5KaLvmjY",
        "outputId": "8c1c849c-dd84-4159-8d4f-70f4b4c9d74f"
      },
      "execution_count": 47,
      "outputs": [
        {
          "output_type": "stream",
          "name": "stdout",
          "text": [
            "What is a? 10\n",
            "What is b? 0\n",
            "result = Cannot divide by Zero!\n"
          ]
        }
      ]
    },
    {
      "cell_type": "code",
      "source": [
        "not False"
      ],
      "metadata": {
        "colab": {
          "base_uri": "https://localhost:8080/"
        },
        "id": "s6toHgBG7d8c",
        "outputId": "947cf606-5bc5-479a-8bfe-66c67e2d462e"
      },
      "execution_count": 45,
      "outputs": [
        {
          "output_type": "execute_result",
          "data": {
            "text/plain": [
              "True"
            ]
          },
          "metadata": {},
          "execution_count": 45
        }
      ]
    },
    {
      "cell_type": "code",
      "source": [
        "calory = [\n",
        "    {\"fruit\": \"apple\", \"calories\": 130},\n",
        "    {\"fruit\": \"avocado\", \"calories\": 50},\n",
        "    {\"fruit\": \"banana\", \"calories\": 110},\n",
        "    {\"fruit\": \"cantaloupe\", \"calories\": 50},\n",
        "    {\"fruit\": \"grapefuit\", \"calories\": 60},\n",
        "    {\"fruit\": \"grapes\", \"calories\": 90},\n",
        "    {\"fruit\": \"honeydew melon\", \"calories\": 50},\n",
        "    {\"fruit\": \"kiwifruit\", \"calories\": 90},\n",
        "    {\"fruit\": \"lemon\", \"calories\": 15},\n",
        "    {\"fruit\": \"lime\", \"calories\": 20},\n",
        "    {\"fruit\": \"nectarine\", \"calories\": 60},\n",
        "    {\"fruit\": \"orange\", \"calories\": 80},\n",
        "    {\"fruit\": \"peach\", \"calories\": 60},\n",
        "    {\"fruit\": \"pear\", \"calories\": 100},\n",
        "    {\"fruit\": \"pineapple\", \"calories\": 50},\n",
        "    {\"fruit\": \"plums\", \"calories\": 70},\n",
        "    {\"fruit\": \"strawberries\", \"calories\":50},\n",
        "    {\"fruit\": \"sweet cherries\", \"calories\": 100},\n",
        "    {\"fruit\": \"tangerine\", \"calories\": 50},\n",
        "    {\"fruit\": \"watermelon\", \"calories\": 80}\n",
        "  ]\n",
        "\n",
        "def main():\n",
        "  fruit = input(\"Item: \").lower()\n",
        "  calory_of_fruit = str(get_fruit_calory(fruit))\n",
        "  if not calory_of_fruit.isdigit():\n",
        "    print(calory_of_fruit)\n",
        "  else:\n",
        "    print(f\"Calories: {calory_of_fruit}\")\n",
        "\n",
        "\n",
        "def get_fruit_calory(fruit):\n",
        "  found = False\n",
        "  for fruit_info in calory:\n",
        "    fruit_name = fruit_info[\"fruit\"]\n",
        "    fruit_calory = fruit_info[\"calories\"]\n",
        "    if fruit_name == fruit:\n",
        "      return fruit_calory\n",
        "  if not found:\n",
        "    return f\"{fruit} not found in FDA's list of fruits.\"\n",
        "\n",
        "\n",
        "if __name__ == \"__main__\":\n",
        "  main()"
      ],
      "metadata": {
        "colab": {
          "base_uri": "https://localhost:8080/"
        },
        "id": "A6KXvR6R7JtO",
        "outputId": "a87f41d2-2cdc-49c1-9676-ac2327852596"
      },
      "execution_count": 24,
      "outputs": [
        {
          "output_type": "stream",
          "name": "stdout",
          "text": [
            "Item: KIWIFRUIT\n",
            "Calories: 90\n"
          ]
        }
      ]
    },
    {
      "cell_type": "code",
      "source": [
        "import numpy as np\n",
        "calory_np = np.array(calory)\n",
        "\n",
        "print(calory_np)\n",
        "print(type(calory_np))"
      ],
      "metadata": {
        "colab": {
          "base_uri": "https://localhost:8080/"
        },
        "id": "3-m3wN8GSz7z",
        "outputId": "a051e100-833a-4510-cfed-4f201752f1df"
      },
      "execution_count": null,
      "outputs": [
        {
          "output_type": "stream",
          "name": "stdout",
          "text": [
            "[{'fruit': 'apple', 'calories': 130} {'fruit': 'avocado', 'calories': 50}\n",
            " {'fruit': 'banana', 'calories': 110}\n",
            " {'fruit': 'cantaloupe', 'calories': 50}\n",
            " {'fruit': 'grapefuit', 'calories': 60}\n",
            " {'fruit': 'grapes', 'calories': 90}\n",
            " {'fruit': 'honeydew melon', 'calories': 50}\n",
            " {'fruit': 'kiwifruit', 'calories': 90} {'fruit': 'lemon', 'calories': 15}\n",
            " {'fruit': 'lime', 'calories': 20} {'fruit': 'nectarine', 'calories': 60}\n",
            " {'fruit': 'orange', 'calories': 80} {'fruit': 'peach', 'calories': 60}\n",
            " {'fruit': 'pear', 'calories': 100} {'fruit': 'pineapple', 'calories': 50}\n",
            " {'fruit': 'plums', 'calories': 70}\n",
            " {'fruit': 'strawberries', 'calories': 50}\n",
            " {'fruit': 'sweet cherries', 'calories': 100}\n",
            " {'fruit': 'tangerine', 'calories': 50}\n",
            " {'fruit': 'watermelon', 'calories': 80}]\n",
            "<class 'numpy.ndarray'>\n"
          ]
        }
      ]
    },
    {
      "cell_type": "code",
      "source": [
        "import pandas as pd\n",
        "\n",
        "calory_pd = pd.DataFrame(calory)\n",
        "\n",
        "calory_pd"
      ],
      "metadata": {
        "colab": {
          "base_uri": "https://localhost:8080/",
          "height": 677
        },
        "id": "PQjY2AHpTNu8",
        "outputId": "0c7229eb-afa3-4a8e-bc53-55d561afa935"
      },
      "execution_count": null,
      "outputs": [
        {
          "output_type": "execute_result",
          "data": {
            "text/plain": [
              "             fruit  calories\n",
              "0            apple       130\n",
              "1          avocado        50\n",
              "2           banana       110\n",
              "3       cantaloupe        50\n",
              "4        grapefuit        60\n",
              "5           grapes        90\n",
              "6   honeydew melon        50\n",
              "7        kiwifruit        90\n",
              "8            lemon        15\n",
              "9             lime        20\n",
              "10       nectarine        60\n",
              "11          orange        80\n",
              "12           peach        60\n",
              "13            pear       100\n",
              "14       pineapple        50\n",
              "15           plums        70\n",
              "16    strawberries        50\n",
              "17  sweet cherries       100\n",
              "18       tangerine        50\n",
              "19      watermelon        80"
            ],
            "text/html": [
              "\n",
              "\n",
              "  <div id=\"df-cea6e5cf-019d-4a20-9521-6eb5b70e3056\">\n",
              "    <div class=\"colab-df-container\">\n",
              "      <div>\n",
              "<style scoped>\n",
              "    .dataframe tbody tr th:only-of-type {\n",
              "        vertical-align: middle;\n",
              "    }\n",
              "\n",
              "    .dataframe tbody tr th {\n",
              "        vertical-align: top;\n",
              "    }\n",
              "\n",
              "    .dataframe thead th {\n",
              "        text-align: right;\n",
              "    }\n",
              "</style>\n",
              "<table border=\"1\" class=\"dataframe\">\n",
              "  <thead>\n",
              "    <tr style=\"text-align: right;\">\n",
              "      <th></th>\n",
              "      <th>fruit</th>\n",
              "      <th>calories</th>\n",
              "    </tr>\n",
              "  </thead>\n",
              "  <tbody>\n",
              "    <tr>\n",
              "      <th>0</th>\n",
              "      <td>apple</td>\n",
              "      <td>130</td>\n",
              "    </tr>\n",
              "    <tr>\n",
              "      <th>1</th>\n",
              "      <td>avocado</td>\n",
              "      <td>50</td>\n",
              "    </tr>\n",
              "    <tr>\n",
              "      <th>2</th>\n",
              "      <td>banana</td>\n",
              "      <td>110</td>\n",
              "    </tr>\n",
              "    <tr>\n",
              "      <th>3</th>\n",
              "      <td>cantaloupe</td>\n",
              "      <td>50</td>\n",
              "    </tr>\n",
              "    <tr>\n",
              "      <th>4</th>\n",
              "      <td>grapefuit</td>\n",
              "      <td>60</td>\n",
              "    </tr>\n",
              "    <tr>\n",
              "      <th>5</th>\n",
              "      <td>grapes</td>\n",
              "      <td>90</td>\n",
              "    </tr>\n",
              "    <tr>\n",
              "      <th>6</th>\n",
              "      <td>honeydew melon</td>\n",
              "      <td>50</td>\n",
              "    </tr>\n",
              "    <tr>\n",
              "      <th>7</th>\n",
              "      <td>kiwifruit</td>\n",
              "      <td>90</td>\n",
              "    </tr>\n",
              "    <tr>\n",
              "      <th>8</th>\n",
              "      <td>lemon</td>\n",
              "      <td>15</td>\n",
              "    </tr>\n",
              "    <tr>\n",
              "      <th>9</th>\n",
              "      <td>lime</td>\n",
              "      <td>20</td>\n",
              "    </tr>\n",
              "    <tr>\n",
              "      <th>10</th>\n",
              "      <td>nectarine</td>\n",
              "      <td>60</td>\n",
              "    </tr>\n",
              "    <tr>\n",
              "      <th>11</th>\n",
              "      <td>orange</td>\n",
              "      <td>80</td>\n",
              "    </tr>\n",
              "    <tr>\n",
              "      <th>12</th>\n",
              "      <td>peach</td>\n",
              "      <td>60</td>\n",
              "    </tr>\n",
              "    <tr>\n",
              "      <th>13</th>\n",
              "      <td>pear</td>\n",
              "      <td>100</td>\n",
              "    </tr>\n",
              "    <tr>\n",
              "      <th>14</th>\n",
              "      <td>pineapple</td>\n",
              "      <td>50</td>\n",
              "    </tr>\n",
              "    <tr>\n",
              "      <th>15</th>\n",
              "      <td>plums</td>\n",
              "      <td>70</td>\n",
              "    </tr>\n",
              "    <tr>\n",
              "      <th>16</th>\n",
              "      <td>strawberries</td>\n",
              "      <td>50</td>\n",
              "    </tr>\n",
              "    <tr>\n",
              "      <th>17</th>\n",
              "      <td>sweet cherries</td>\n",
              "      <td>100</td>\n",
              "    </tr>\n",
              "    <tr>\n",
              "      <th>18</th>\n",
              "      <td>tangerine</td>\n",
              "      <td>50</td>\n",
              "    </tr>\n",
              "    <tr>\n",
              "      <th>19</th>\n",
              "      <td>watermelon</td>\n",
              "      <td>80</td>\n",
              "    </tr>\n",
              "  </tbody>\n",
              "</table>\n",
              "</div>\n",
              "      <button class=\"colab-df-convert\" onclick=\"convertToInteractive('df-cea6e5cf-019d-4a20-9521-6eb5b70e3056')\"\n",
              "              title=\"Convert this dataframe to an interactive table.\"\n",
              "              style=\"display:none;\">\n",
              "\n",
              "  <svg xmlns=\"http://www.w3.org/2000/svg\" height=\"24px\"viewBox=\"0 0 24 24\"\n",
              "       width=\"24px\">\n",
              "    <path d=\"M0 0h24v24H0V0z\" fill=\"none\"/>\n",
              "    <path d=\"M18.56 5.44l.94 2.06.94-2.06 2.06-.94-2.06-.94-.94-2.06-.94 2.06-2.06.94zm-11 1L8.5 8.5l.94-2.06 2.06-.94-2.06-.94L8.5 2.5l-.94 2.06-2.06.94zm10 10l.94 2.06.94-2.06 2.06-.94-2.06-.94-.94-2.06-.94 2.06-2.06.94z\"/><path d=\"M17.41 7.96l-1.37-1.37c-.4-.4-.92-.59-1.43-.59-.52 0-1.04.2-1.43.59L10.3 9.45l-7.72 7.72c-.78.78-.78 2.05 0 2.83L4 21.41c.39.39.9.59 1.41.59.51 0 1.02-.2 1.41-.59l7.78-7.78 2.81-2.81c.8-.78.8-2.07 0-2.86zM5.41 20L4 18.59l7.72-7.72 1.47 1.35L5.41 20z\"/>\n",
              "  </svg>\n",
              "      </button>\n",
              "\n",
              "\n",
              "\n",
              "    <div id=\"df-e3682953-811f-47fb-ad9d-65771e678cee\">\n",
              "      <button class=\"colab-df-quickchart\" onclick=\"quickchart('df-e3682953-811f-47fb-ad9d-65771e678cee')\"\n",
              "              title=\"Suggest charts.\"\n",
              "              style=\"display:none;\">\n",
              "\n",
              "<svg xmlns=\"http://www.w3.org/2000/svg\" height=\"24px\"viewBox=\"0 0 24 24\"\n",
              "     width=\"24px\">\n",
              "    <g>\n",
              "        <path d=\"M19 3H5c-1.1 0-2 .9-2 2v14c0 1.1.9 2 2 2h14c1.1 0 2-.9 2-2V5c0-1.1-.9-2-2-2zM9 17H7v-7h2v7zm4 0h-2V7h2v10zm4 0h-2v-4h2v4z\"/>\n",
              "    </g>\n",
              "</svg>\n",
              "      </button>\n",
              "    </div>\n",
              "\n",
              "<style>\n",
              "  .colab-df-quickchart {\n",
              "    background-color: #E8F0FE;\n",
              "    border: none;\n",
              "    border-radius: 50%;\n",
              "    cursor: pointer;\n",
              "    display: none;\n",
              "    fill: #1967D2;\n",
              "    height: 32px;\n",
              "    padding: 0 0 0 0;\n",
              "    width: 32px;\n",
              "  }\n",
              "\n",
              "  .colab-df-quickchart:hover {\n",
              "    background-color: #E2EBFA;\n",
              "    box-shadow: 0px 1px 2px rgba(60, 64, 67, 0.3), 0px 1px 3px 1px rgba(60, 64, 67, 0.15);\n",
              "    fill: #174EA6;\n",
              "  }\n",
              "\n",
              "  [theme=dark] .colab-df-quickchart {\n",
              "    background-color: #3B4455;\n",
              "    fill: #D2E3FC;\n",
              "  }\n",
              "\n",
              "  [theme=dark] .colab-df-quickchart:hover {\n",
              "    background-color: #434B5C;\n",
              "    box-shadow: 0px 1px 3px 1px rgba(0, 0, 0, 0.15);\n",
              "    filter: drop-shadow(0px 1px 2px rgba(0, 0, 0, 0.3));\n",
              "    fill: #FFFFFF;\n",
              "  }\n",
              "</style>\n",
              "\n",
              "    <script>\n",
              "      async function quickchart(key) {\n",
              "        const containerElement = document.querySelector('#' + key);\n",
              "        const charts = await google.colab.kernel.invokeFunction(\n",
              "            'suggestCharts', [key], {});\n",
              "      }\n",
              "    </script>\n",
              "\n",
              "      <script>\n",
              "\n",
              "function displayQuickchartButton(domScope) {\n",
              "  let quickchartButtonEl =\n",
              "    domScope.querySelector('#df-e3682953-811f-47fb-ad9d-65771e678cee button.colab-df-quickchart');\n",
              "  quickchartButtonEl.style.display =\n",
              "    google.colab.kernel.accessAllowed ? 'block' : 'none';\n",
              "}\n",
              "\n",
              "        displayQuickchartButton(document);\n",
              "      </script>\n",
              "      <style>\n",
              "    .colab-df-container {\n",
              "      display:flex;\n",
              "      flex-wrap:wrap;\n",
              "      gap: 12px;\n",
              "    }\n",
              "\n",
              "    .colab-df-convert {\n",
              "      background-color: #E8F0FE;\n",
              "      border: none;\n",
              "      border-radius: 50%;\n",
              "      cursor: pointer;\n",
              "      display: none;\n",
              "      fill: #1967D2;\n",
              "      height: 32px;\n",
              "      padding: 0 0 0 0;\n",
              "      width: 32px;\n",
              "    }\n",
              "\n",
              "    .colab-df-convert:hover {\n",
              "      background-color: #E2EBFA;\n",
              "      box-shadow: 0px 1px 2px rgba(60, 64, 67, 0.3), 0px 1px 3px 1px rgba(60, 64, 67, 0.15);\n",
              "      fill: #174EA6;\n",
              "    }\n",
              "\n",
              "    [theme=dark] .colab-df-convert {\n",
              "      background-color: #3B4455;\n",
              "      fill: #D2E3FC;\n",
              "    }\n",
              "\n",
              "    [theme=dark] .colab-df-convert:hover {\n",
              "      background-color: #434B5C;\n",
              "      box-shadow: 0px 1px 3px 1px rgba(0, 0, 0, 0.15);\n",
              "      filter: drop-shadow(0px 1px 2px rgba(0, 0, 0, 0.3));\n",
              "      fill: #FFFFFF;\n",
              "    }\n",
              "  </style>\n",
              "\n",
              "      <script>\n",
              "        const buttonEl =\n",
              "          document.querySelector('#df-cea6e5cf-019d-4a20-9521-6eb5b70e3056 button.colab-df-convert');\n",
              "        buttonEl.style.display =\n",
              "          google.colab.kernel.accessAllowed ? 'block' : 'none';\n",
              "\n",
              "        async function convertToInteractive(key) {\n",
              "          const element = document.querySelector('#df-cea6e5cf-019d-4a20-9521-6eb5b70e3056');\n",
              "          const dataTable =\n",
              "            await google.colab.kernel.invokeFunction('convertToInteractive',\n",
              "                                                     [key], {});\n",
              "          if (!dataTable) return;\n",
              "\n",
              "          const docLinkHtml = 'Like what you see? Visit the ' +\n",
              "            '<a target=\"_blank\" href=https://colab.research.google.com/notebooks/data_table.ipynb>data table notebook</a>'\n",
              "            + ' to learn more about interactive tables.';\n",
              "          element.innerHTML = '';\n",
              "          dataTable['output_type'] = 'display_data';\n",
              "          await google.colab.output.renderOutput(dataTable, element);\n",
              "          const docLink = document.createElement('div');\n",
              "          docLink.innerHTML = docLinkHtml;\n",
              "          element.appendChild(docLink);\n",
              "        }\n",
              "      </script>\n",
              "    </div>\n",
              "  </div>\n"
            ]
          },
          "metadata": {},
          "execution_count": 4
        }
      ]
    },
    {
      "cell_type": "code",
      "source": [
        "calory_pd.iloc[0:5, [0,1]]"
      ],
      "metadata": {
        "colab": {
          "base_uri": "https://localhost:8080/",
          "height": 206
        },
        "id": "OsRhhwnlX5bk",
        "outputId": "37e8fc27-de8c-426d-e412-2c564953ea75"
      },
      "execution_count": null,
      "outputs": [
        {
          "output_type": "execute_result",
          "data": {
            "text/plain": [
              "        fruit  calories\n",
              "0       apple       130\n",
              "1     avocado        50\n",
              "2      banana       110\n",
              "3  cantaloupe        50\n",
              "4   grapefuit        60"
            ],
            "text/html": [
              "\n",
              "\n",
              "  <div id=\"df-4ee88783-3134-40a5-9512-44982ede1571\">\n",
              "    <div class=\"colab-df-container\">\n",
              "      <div>\n",
              "<style scoped>\n",
              "    .dataframe tbody tr th:only-of-type {\n",
              "        vertical-align: middle;\n",
              "    }\n",
              "\n",
              "    .dataframe tbody tr th {\n",
              "        vertical-align: top;\n",
              "    }\n",
              "\n",
              "    .dataframe thead th {\n",
              "        text-align: right;\n",
              "    }\n",
              "</style>\n",
              "<table border=\"1\" class=\"dataframe\">\n",
              "  <thead>\n",
              "    <tr style=\"text-align: right;\">\n",
              "      <th></th>\n",
              "      <th>fruit</th>\n",
              "      <th>calories</th>\n",
              "    </tr>\n",
              "  </thead>\n",
              "  <tbody>\n",
              "    <tr>\n",
              "      <th>0</th>\n",
              "      <td>apple</td>\n",
              "      <td>130</td>\n",
              "    </tr>\n",
              "    <tr>\n",
              "      <th>1</th>\n",
              "      <td>avocado</td>\n",
              "      <td>50</td>\n",
              "    </tr>\n",
              "    <tr>\n",
              "      <th>2</th>\n",
              "      <td>banana</td>\n",
              "      <td>110</td>\n",
              "    </tr>\n",
              "    <tr>\n",
              "      <th>3</th>\n",
              "      <td>cantaloupe</td>\n",
              "      <td>50</td>\n",
              "    </tr>\n",
              "    <tr>\n",
              "      <th>4</th>\n",
              "      <td>grapefuit</td>\n",
              "      <td>60</td>\n",
              "    </tr>\n",
              "  </tbody>\n",
              "</table>\n",
              "</div>\n",
              "      <button class=\"colab-df-convert\" onclick=\"convertToInteractive('df-4ee88783-3134-40a5-9512-44982ede1571')\"\n",
              "              title=\"Convert this dataframe to an interactive table.\"\n",
              "              style=\"display:none;\">\n",
              "\n",
              "  <svg xmlns=\"http://www.w3.org/2000/svg\" height=\"24px\"viewBox=\"0 0 24 24\"\n",
              "       width=\"24px\">\n",
              "    <path d=\"M0 0h24v24H0V0z\" fill=\"none\"/>\n",
              "    <path d=\"M18.56 5.44l.94 2.06.94-2.06 2.06-.94-2.06-.94-.94-2.06-.94 2.06-2.06.94zm-11 1L8.5 8.5l.94-2.06 2.06-.94-2.06-.94L8.5 2.5l-.94 2.06-2.06.94zm10 10l.94 2.06.94-2.06 2.06-.94-2.06-.94-.94-2.06-.94 2.06-2.06.94z\"/><path d=\"M17.41 7.96l-1.37-1.37c-.4-.4-.92-.59-1.43-.59-.52 0-1.04.2-1.43.59L10.3 9.45l-7.72 7.72c-.78.78-.78 2.05 0 2.83L4 21.41c.39.39.9.59 1.41.59.51 0 1.02-.2 1.41-.59l7.78-7.78 2.81-2.81c.8-.78.8-2.07 0-2.86zM5.41 20L4 18.59l7.72-7.72 1.47 1.35L5.41 20z\"/>\n",
              "  </svg>\n",
              "      </button>\n",
              "\n",
              "\n",
              "\n",
              "    <div id=\"df-a4717712-5d64-43e1-9a5e-457fa4971f48\">\n",
              "      <button class=\"colab-df-quickchart\" onclick=\"quickchart('df-a4717712-5d64-43e1-9a5e-457fa4971f48')\"\n",
              "              title=\"Suggest charts.\"\n",
              "              style=\"display:none;\">\n",
              "\n",
              "<svg xmlns=\"http://www.w3.org/2000/svg\" height=\"24px\"viewBox=\"0 0 24 24\"\n",
              "     width=\"24px\">\n",
              "    <g>\n",
              "        <path d=\"M19 3H5c-1.1 0-2 .9-2 2v14c0 1.1.9 2 2 2h14c1.1 0 2-.9 2-2V5c0-1.1-.9-2-2-2zM9 17H7v-7h2v7zm4 0h-2V7h2v10zm4 0h-2v-4h2v4z\"/>\n",
              "    </g>\n",
              "</svg>\n",
              "      </button>\n",
              "    </div>\n",
              "\n",
              "<style>\n",
              "  .colab-df-quickchart {\n",
              "    background-color: #E8F0FE;\n",
              "    border: none;\n",
              "    border-radius: 50%;\n",
              "    cursor: pointer;\n",
              "    display: none;\n",
              "    fill: #1967D2;\n",
              "    height: 32px;\n",
              "    padding: 0 0 0 0;\n",
              "    width: 32px;\n",
              "  }\n",
              "\n",
              "  .colab-df-quickchart:hover {\n",
              "    background-color: #E2EBFA;\n",
              "    box-shadow: 0px 1px 2px rgba(60, 64, 67, 0.3), 0px 1px 3px 1px rgba(60, 64, 67, 0.15);\n",
              "    fill: #174EA6;\n",
              "  }\n",
              "\n",
              "  [theme=dark] .colab-df-quickchart {\n",
              "    background-color: #3B4455;\n",
              "    fill: #D2E3FC;\n",
              "  }\n",
              "\n",
              "  [theme=dark] .colab-df-quickchart:hover {\n",
              "    background-color: #434B5C;\n",
              "    box-shadow: 0px 1px 3px 1px rgba(0, 0, 0, 0.15);\n",
              "    filter: drop-shadow(0px 1px 2px rgba(0, 0, 0, 0.3));\n",
              "    fill: #FFFFFF;\n",
              "  }\n",
              "</style>\n",
              "\n",
              "    <script>\n",
              "      async function quickchart(key) {\n",
              "        const containerElement = document.querySelector('#' + key);\n",
              "        const charts = await google.colab.kernel.invokeFunction(\n",
              "            'suggestCharts', [key], {});\n",
              "      }\n",
              "    </script>\n",
              "\n",
              "      <script>\n",
              "\n",
              "function displayQuickchartButton(domScope) {\n",
              "  let quickchartButtonEl =\n",
              "    domScope.querySelector('#df-a4717712-5d64-43e1-9a5e-457fa4971f48 button.colab-df-quickchart');\n",
              "  quickchartButtonEl.style.display =\n",
              "    google.colab.kernel.accessAllowed ? 'block' : 'none';\n",
              "}\n",
              "\n",
              "        displayQuickchartButton(document);\n",
              "      </script>\n",
              "      <style>\n",
              "    .colab-df-container {\n",
              "      display:flex;\n",
              "      flex-wrap:wrap;\n",
              "      gap: 12px;\n",
              "    }\n",
              "\n",
              "    .colab-df-convert {\n",
              "      background-color: #E8F0FE;\n",
              "      border: none;\n",
              "      border-radius: 50%;\n",
              "      cursor: pointer;\n",
              "      display: none;\n",
              "      fill: #1967D2;\n",
              "      height: 32px;\n",
              "      padding: 0 0 0 0;\n",
              "      width: 32px;\n",
              "    }\n",
              "\n",
              "    .colab-df-convert:hover {\n",
              "      background-color: #E2EBFA;\n",
              "      box-shadow: 0px 1px 2px rgba(60, 64, 67, 0.3), 0px 1px 3px 1px rgba(60, 64, 67, 0.15);\n",
              "      fill: #174EA6;\n",
              "    }\n",
              "\n",
              "    [theme=dark] .colab-df-convert {\n",
              "      background-color: #3B4455;\n",
              "      fill: #D2E3FC;\n",
              "    }\n",
              "\n",
              "    [theme=dark] .colab-df-convert:hover {\n",
              "      background-color: #434B5C;\n",
              "      box-shadow: 0px 1px 3px 1px rgba(0, 0, 0, 0.15);\n",
              "      filter: drop-shadow(0px 1px 2px rgba(0, 0, 0, 0.3));\n",
              "      fill: #FFFFFF;\n",
              "    }\n",
              "  </style>\n",
              "\n",
              "      <script>\n",
              "        const buttonEl =\n",
              "          document.querySelector('#df-4ee88783-3134-40a5-9512-44982ede1571 button.colab-df-convert');\n",
              "        buttonEl.style.display =\n",
              "          google.colab.kernel.accessAllowed ? 'block' : 'none';\n",
              "\n",
              "        async function convertToInteractive(key) {\n",
              "          const element = document.querySelector('#df-4ee88783-3134-40a5-9512-44982ede1571');\n",
              "          const dataTable =\n",
              "            await google.colab.kernel.invokeFunction('convertToInteractive',\n",
              "                                                     [key], {});\n",
              "          if (!dataTable) return;\n",
              "\n",
              "          const docLinkHtml = 'Like what you see? Visit the ' +\n",
              "            '<a target=\"_blank\" href=https://colab.research.google.com/notebooks/data_table.ipynb>data table notebook</a>'\n",
              "            + ' to learn more about interactive tables.';\n",
              "          element.innerHTML = '';\n",
              "          dataTable['output_type'] = 'display_data';\n",
              "          await google.colab.output.renderOutput(dataTable, element);\n",
              "          const docLink = document.createElement('div');\n",
              "          docLink.innerHTML = docLinkHtml;\n",
              "          element.appendChild(docLink);\n",
              "        }\n",
              "      </script>\n",
              "    </div>\n",
              "  </div>\n"
            ]
          },
          "metadata": {},
          "execution_count": 8
        }
      ]
    },
    {
      "cell_type": "code",
      "source": [
        "t\n"
      ],
      "metadata": {
        "id": "wFtLkC3-hC4Z"
      },
      "execution_count": null,
      "outputs": []
    },
    {
      "cell_type": "code",
      "source": [
        "def main():\n",
        "  x = get_int()\n",
        "  print(f\"x is {x}\")\n",
        "\n",
        "def get_int():\n",
        "  while True:\n",
        "    try:\n",
        "      return int(input(\"What's x? \"))\n",
        "    except ValueError:\n",
        "      pass\n",
        "      #print(\"x is not an integer.\")\n",
        "\n",
        "main()"
      ],
      "metadata": {
        "colab": {
          "base_uri": "https://localhost:8080/"
        },
        "id": "fJ0SWbuFsP54",
        "outputId": "1824c0dc-b0dd-495b-b7bd-aa8cca8f02f1"
      },
      "execution_count": 17,
      "outputs": [
        {
          "output_type": "stream",
          "name": "stdout",
          "text": [
            "What's x? hy\n",
            "What's x? hsy\n",
            "What's x? 89\n",
            "x is 89\n"
          ]
        }
      ]
    },
    {
      "cell_type": "code",
      "source": [
        "def get_fuel_level():\n",
        "  while True:\n",
        "    try:\n",
        "      fraction_input = input(\"Fraction: \")\n",
        "\n",
        "    except ValueError:\n",
        "      pass\n",
        "    except ZeroDivisionError:\n",
        "      pass\n",
        "    else:\n",
        "      X, Y = fraction_input.split(\"/\")\n",
        "      X = int(X)\n",
        "      Y = int(Y)\n",
        "    if X > Y:\n",
        "      pass\n",
        "    else:\n",
        "      break\n",
        "\n",
        "  fuel_percentage = round((X/Y) * 100)\n",
        "  if fuel_percentage <= 1:\n",
        "    return \"E\"\n",
        "  elif fuel_percentage >= 99:\n",
        "    return \"F\"\n",
        "  else:\n",
        "    return (f\"{fuel_percentage}%\")\n",
        "\n",
        "print(get_fuel_level())"
      ],
      "metadata": {
        "colab": {
          "base_uri": "https://localhost:8080/",
          "height": 391
        },
        "id": "ef_E8taubdhx",
        "outputId": "8183f0fc-d987-4520-a986-a7571bb89bae"
      },
      "execution_count": 5,
      "outputs": [
        {
          "name": "stdout",
          "output_type": "stream",
          "text": [
            "Fraction: 3/2\n",
            "Fraction: 7/6\n"
          ]
        },
        {
          "output_type": "error",
          "ename": "KeyboardInterrupt",
          "evalue": "ignored",
          "traceback": [
            "\u001b[0;31m---------------------------------------------------------------------------\u001b[0m",
            "\u001b[0;31mKeyboardInterrupt\u001b[0m                         Traceback (most recent call last)",
            "\u001b[0;32m<ipython-input-5-7d2552dda7e7>\u001b[0m in \u001b[0;36m<cell line: 27>\u001b[0;34m()\u001b[0m\n\u001b[1;32m     25\u001b[0m     \u001b[0;32mreturn\u001b[0m \u001b[0;34m(\u001b[0m\u001b[0;34mf\"{fuel_percentage}%\"\u001b[0m\u001b[0;34m)\u001b[0m\u001b[0;34m\u001b[0m\u001b[0;34m\u001b[0m\u001b[0m\n\u001b[1;32m     26\u001b[0m \u001b[0;34m\u001b[0m\u001b[0m\n\u001b[0;32m---> 27\u001b[0;31m \u001b[0mprint\u001b[0m\u001b[0;34m(\u001b[0m\u001b[0mget_fuel_level\u001b[0m\u001b[0;34m(\u001b[0m\u001b[0;34m)\u001b[0m\u001b[0;34m)\u001b[0m\u001b[0;34m\u001b[0m\u001b[0;34m\u001b[0m\u001b[0m\n\u001b[0m",
            "\u001b[0;32m<ipython-input-5-7d2552dda7e7>\u001b[0m in \u001b[0;36mget_fuel_level\u001b[0;34m()\u001b[0m\n\u001b[1;32m      2\u001b[0m   \u001b[0;32mwhile\u001b[0m \u001b[0;32mTrue\u001b[0m\u001b[0;34m:\u001b[0m\u001b[0;34m\u001b[0m\u001b[0;34m\u001b[0m\u001b[0m\n\u001b[1;32m      3\u001b[0m     \u001b[0;32mtry\u001b[0m\u001b[0;34m:\u001b[0m\u001b[0;34m\u001b[0m\u001b[0;34m\u001b[0m\u001b[0m\n\u001b[0;32m----> 4\u001b[0;31m       \u001b[0mfraction_input\u001b[0m \u001b[0;34m=\u001b[0m \u001b[0minput\u001b[0m\u001b[0;34m(\u001b[0m\u001b[0;34m\"Fraction: \"\u001b[0m\u001b[0;34m)\u001b[0m\u001b[0;34m\u001b[0m\u001b[0;34m\u001b[0m\u001b[0m\n\u001b[0m\u001b[1;32m      5\u001b[0m \u001b[0;34m\u001b[0m\u001b[0m\n\u001b[1;32m      6\u001b[0m     \u001b[0;32mexcept\u001b[0m \u001b[0mValueError\u001b[0m\u001b[0;34m:\u001b[0m\u001b[0;34m\u001b[0m\u001b[0;34m\u001b[0m\u001b[0m\n",
            "\u001b[0;32m/usr/local/lib/python3.10/dist-packages/ipykernel/kernelbase.py\u001b[0m in \u001b[0;36mraw_input\u001b[0;34m(self, prompt)\u001b[0m\n\u001b[1;32m    849\u001b[0m                 \u001b[0;34m\"raw_input was called, but this frontend does not support input requests.\"\u001b[0m\u001b[0;34m\u001b[0m\u001b[0;34m\u001b[0m\u001b[0m\n\u001b[1;32m    850\u001b[0m             )\n\u001b[0;32m--> 851\u001b[0;31m         return self._input_request(str(prompt),\n\u001b[0m\u001b[1;32m    852\u001b[0m             \u001b[0mself\u001b[0m\u001b[0;34m.\u001b[0m\u001b[0m_parent_ident\u001b[0m\u001b[0;34m,\u001b[0m\u001b[0;34m\u001b[0m\u001b[0;34m\u001b[0m\u001b[0m\n\u001b[1;32m    853\u001b[0m             \u001b[0mself\u001b[0m\u001b[0;34m.\u001b[0m\u001b[0m_parent_header\u001b[0m\u001b[0;34m,\u001b[0m\u001b[0;34m\u001b[0m\u001b[0;34m\u001b[0m\u001b[0m\n",
            "\u001b[0;32m/usr/local/lib/python3.10/dist-packages/ipykernel/kernelbase.py\u001b[0m in \u001b[0;36m_input_request\u001b[0;34m(self, prompt, ident, parent, password)\u001b[0m\n\u001b[1;32m    893\u001b[0m             \u001b[0;32mexcept\u001b[0m \u001b[0mKeyboardInterrupt\u001b[0m\u001b[0;34m:\u001b[0m\u001b[0;34m\u001b[0m\u001b[0;34m\u001b[0m\u001b[0m\n\u001b[1;32m    894\u001b[0m                 \u001b[0;31m# re-raise KeyboardInterrupt, to truncate traceback\u001b[0m\u001b[0;34m\u001b[0m\u001b[0;34m\u001b[0m\u001b[0m\n\u001b[0;32m--> 895\u001b[0;31m                 \u001b[0;32mraise\u001b[0m \u001b[0mKeyboardInterrupt\u001b[0m\u001b[0;34m(\u001b[0m\u001b[0;34m\"Interrupted by user\"\u001b[0m\u001b[0;34m)\u001b[0m \u001b[0;32mfrom\u001b[0m \u001b[0;32mNone\u001b[0m\u001b[0;34m\u001b[0m\u001b[0;34m\u001b[0m\u001b[0m\n\u001b[0m\u001b[1;32m    896\u001b[0m             \u001b[0;32mexcept\u001b[0m \u001b[0mException\u001b[0m \u001b[0;32mas\u001b[0m \u001b[0me\u001b[0m\u001b[0;34m:\u001b[0m\u001b[0;34m\u001b[0m\u001b[0;34m\u001b[0m\u001b[0m\n\u001b[1;32m    897\u001b[0m                 \u001b[0mself\u001b[0m\u001b[0;34m.\u001b[0m\u001b[0mlog\u001b[0m\u001b[0;34m.\u001b[0m\u001b[0mwarning\u001b[0m\u001b[0;34m(\u001b[0m\u001b[0;34m\"Invalid Message:\"\u001b[0m\u001b[0;34m,\u001b[0m \u001b[0mexc_info\u001b[0m\u001b[0;34m=\u001b[0m\u001b[0;32mTrue\u001b[0m\u001b[0;34m)\u001b[0m\u001b[0;34m\u001b[0m\u001b[0;34m\u001b[0m\u001b[0m\n",
            "\u001b[0;31mKeyboardInterrupt\u001b[0m: Interrupted by user"
          ]
        }
      ]
    },
    {
      "cell_type": "code",
      "source": [],
      "metadata": {
        "id": "FhgZSwVA0I3k"
      },
      "execution_count": null,
      "outputs": []
    }
  ],
  "metadata": {
    "colab": {
      "provenance": [],
      "mount_file_id": "17AFEQglZEbrYTn4mWVp3_OYqjA6OnW9E",
      "authorship_tag": "ABX9TyNfP1Wigscw3V3ZQ9xJ8MU0",
      "include_colab_link": true
    },
    "kernelspec": {
      "display_name": "Python 3",
      "name": "python3"
    },
    "language_info": {
      "name": "python"
    }
  },
  "nbformat": 4,
  "nbformat_minor": 0
}